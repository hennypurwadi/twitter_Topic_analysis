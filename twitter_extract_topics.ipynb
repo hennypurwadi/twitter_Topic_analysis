{
 "cells": [
  {
   "cell_type": "code",
   "execution_count": 1,
   "id": "ee0bca88",
   "metadata": {},
   "outputs": [],
   "source": [
    "import numpy as np\n",
    "import pandas as pd\n",
    "import matplotlib.pyplot as plt\n",
    "import tweepy\n",
    "import snscrape.modules.twitter as sntwitter\n",
    "import csv\n",
    "import string\n",
    "from collections import Counter\n",
    "#nltk.download()\n",
    "import nltk\n",
    "from nltk.corpus import stopwords\n",
    "from nltk.sentiment.vader import SentimentIntensityAnalyzer\n",
    "from nltk.stem import WordNetLemmatizer\n",
    "from nltk.tokenize import word_tokenize\n",
    "from nltk.sentiment.vader import SentimentIntensityAnalyzer\n",
    "import matplotlib as mpl\n",
    "import csv\n",
    "import matplotlib.pyplot as plt\n",
    "import re"
   ]
  },
  {
   "cell_type": "markdown",
   "id": "e3c22f91",
   "metadata": {},
   "source": [
    "# Twitter Developer API"
   ]
  },
  {
   "cell_type": "code",
   "execution_count": 2,
   "id": "ea344d39",
   "metadata": {},
   "outputs": [],
   "source": [
    "#https://developer.twitter.com/en/portal/dashboard\n",
    "\n",
    "API_KEY = 'JYW7WsKbVLqOnhJZd4Kqfwtfk'\n",
    "API_SECRET = 'sPAUmw4DQhnb4aGmZD1B8On7Z8SJzegycAfQEM9wGL3GFwx4ni'\n",
    "ACCESS_TOKEN = '900524114976296960-vBIQ0CoAWvP4kfSctnB3ejV5bJpNMqw'\n",
    "ACCESS_TOKEN_SECRET = 'egd1tOSY0LYKB1fxjPTBCvPPtYMIhJmlAI6HZ7Z09Zv7j'\n",
    "\n",
    "a = tweepy.OAuthHandler(API_KEY, API_SECRET)\n",
    "a.set_access_token(ACCESS_TOKEN, ACCESS_TOKEN_SECRET)\n",
    "API = tweepy.API(a)"
   ]
  },
  {
   "cell_type": "markdown",
   "id": "ccc49ac2",
   "metadata": {},
   "source": [
    "# Twitter Trending Now"
   ]
  },
  {
   "cell_type": "code",
   "execution_count": 3,
   "id": "8dfa94ec",
   "metadata": {},
   "outputs": [
    {
     "name": "stdout",
     "output_type": "stream",
     "text": [
      "Trending now in London:\n",
      "['#SundayBrunch', 'Human Rights', 'Popcaan', '#SundayFunday', 'Wilder', '#conservativeleadership', '#ASongOrMovieForFarmers', 'Suella', 'Lyon', 'ADHD', 'McLaren', 'Tugendhat', 'Kante', 'Beckham', 'Aguero', 'Black Widow', 'Braverman', 'Nicki', 'Wireless', 'Truss', 'Kyrgios', 'Sainz', 'Ferrari', 'ECHR', 'Charles', 'Perez', 'Andrew Castle', 'Russell', 'Verstappen', 'Prince George', 'Alonso', 'Jo Cox', 'Krygios', 'Hunt', 'Plan E', 'Marshalls', 'Mick', 'Oscar Pistorius', 'Esther McVey', 'Checo', 'Red Bull', 'Haas', 'Gasly', 'Penny Mordaunt', 'Paqueta', 'Lando', 'Jonnie', 'Belarus', 'Iniesta']\n"
     ]
    }
   ],
   "source": [
    "#https://www.woeids.com/ # WOEID of London\n",
    "woeid = 44418\n",
    "trendingnow = API.get_place_trends(id = woeid)\n",
    "print(\"Trending now in London:\")\n",
    " \n",
    "for trend in trendingnow:\n",
    "    trends = []\n",
    "    for tr in trend['trends']:\n",
    "        trends.append(tr['name'])\n",
    "print(trends)    "
   ]
  },
  {
   "cell_type": "markdown",
   "id": "cbadc080",
   "metadata": {},
   "source": [
    "# Collect Tweets around area"
   ]
  },
  {
   "cell_type": "code",
   "execution_count": 4,
   "id": "62fc2c74",
   "metadata": {},
   "outputs": [],
   "source": [
    "import snscrape.modules.twitter as sntwitter\n",
    "import csv\n",
    "\n",
    "maxTweets = 700\n",
    "#Create csv file, or append data into\n",
    "text = open('London_tweets.csv', 'a', newline='', encoding='utf8')\n",
    "\n",
    "#write tweets into csv file\n",
    "textWriter = csv.writer(text)\n",
    "textWriter.writerow(['id','date','username','tweet']) \n",
    "\n",
    "#Radius around 100 miles around the custom geo code\n",
    "for i,tweet in enumerate(sntwitter.TwitterSearchScraper('geocode:51.51147,-0.1220,100mi \\\n",
    "                                        + since:2022-07-01 until:2022-07-07 -filter:links -filter:replies').get_items()):\n",
    "    if i > maxTweets :\n",
    "            break\n",
    "\n",
    "    textWriter.writerow([tweet.id, tweet.date, tweet.user.username, tweet.content])   \n",
    "    \n",
    "text.close()"
   ]
  },
  {
   "cell_type": "markdown",
   "id": "db9b4af1",
   "metadata": {},
   "source": [
    "# Pre-processing, Cleaning"
   ]
  },
  {
   "cell_type": "code",
   "execution_count": 5,
   "id": "266f29d7",
   "metadata": {},
   "outputs": [],
   "source": [
    "text = open('London_tweets.csv', encoding='utf-8').read()"
   ]
  },
  {
   "cell_type": "code",
   "execution_count": 6,
   "id": "942cd4cc",
   "metadata": {},
   "outputs": [],
   "source": [
    "lower_case = text.lower()"
   ]
  },
  {
   "cell_type": "code",
   "execution_count": 7,
   "id": "920c928f",
   "metadata": {},
   "outputs": [],
   "source": [
    "cleaned_text = lower_case.translate(str.maketrans('', '', string.punctuation))"
   ]
  },
  {
   "cell_type": "code",
   "execution_count": 8,
   "id": "e58ba063",
   "metadata": {},
   "outputs": [],
   "source": [
    "# word_tokenize \n",
    "tokenized_words = word_tokenize(cleaned_text, \"english\")"
   ]
  },
  {
   "cell_type": "code",
   "execution_count": 9,
   "id": "7ac7892d",
   "metadata": {},
   "outputs": [],
   "source": [
    "# Removing Stop Words\n",
    "final_words = []\n",
    "for word in tokenized_words:\n",
    "    if word not in stopwords.words('english'):\n",
    "        final_words.append(word)"
   ]
  },
  {
   "cell_type": "code",
   "execution_count": 10,
   "id": "723a32d4",
   "metadata": {},
   "outputs": [],
   "source": [
    "# Lemmatization - From plural to single, and Base form of a word\n",
    "lemma_words = []\n",
    "for word in final_words:\n",
    "    word = WordNetLemmatizer().lemmatize(word)\n",
    "    lemma_words.append(word)      \n",
    "#print(lemma_words)"
   ]
  },
  {
   "cell_type": "markdown",
   "id": "3645910a",
   "metadata": {},
   "source": [
    "## 5 Most Popular hastags"
   ]
  },
  {
   "cell_type": "code",
   "execution_count": 11,
   "id": "2665ba09",
   "metadata": {},
   "outputs": [
    {
     "name": "stdout",
     "output_type": "stream",
     "text": [
      "['talkswithash', 'lagosswindler', 'canterburytales', 'lagosswindlers', 'rony', 'palmeiras', 'chelsea', 'dybala', 'milan', 'cfc', 'borisout', 'borisjohnsonmustresign', 'byeboris', 'borisjohnsonmustgo', 'borisjohnson', 'trump', 'boris', 'johnsonmustgo', 'lagosswindlers', 'lastlast', 'avax', 'mitb', 'wwesmackdown', 'nowplaying', 'tonicskaradio', 'firstplay', 'bbc6music', 'loveisland', 'timefortrump', 'topray', 'pbrisingstars', 'talkswithash', 'loveisland', 'nowplaying', 'chris', 'hortonpark', 'epsom', 'nowplaying', 'loveisland', 'loveisland', 'firstplay', 'bbcr1', 'makeitmiami', 'loveisland', 'talkswithash', 'talkswithash', 'luxor', 'egypt', 'loveisland', 'topray', 'loveisland', 'itshappening', 'loveisland', 'rtitbot', 'الحلول', 'wordle383', 'bbcnewsnight', 'msmarvel', 'nevergiveup', 'willtowin', 'newsnight', 'gove', 'cillianmurphy', 'backtotheisland', 'wordle', 'wordle383', 'loveisland', 'np', 'afrohouse', 'amapiano', 'drumsradio', 'punkaintdead', 'trafficandweather', 'portofdover', 'peaceday', 'peaceday', 'robotsforpeace', 'loveisland', 'loveisland', 'borisout', 'itshappening', 'resignationwatch', 'harshrealitynosis', 'animalcrossingnewhorizons', 'acnh', 'animalcrossing', 'bells', 'brexitmeansbiscuits', 'biscuitsmeansbrexit', 'concepts', 'firstplay', 'bbcradio2', 'londonremembers', 'costoflivingcrisis', 'nowplaying', 'muascam', 'internationalspacestation', 'aylesbury', 'iss', 'nasa', 'space', 'nfts', '132', 'lagosswindlers', 'nowplaying', 'tonicskaradio', 'saintsfc', 'talkswithash', 'wordle383', 'firstplay', 'bbc6music', 'byeboris', 'electlabour', 'toriesunfittogovern', 'talkswithash', 'talkswithash', 'talkswithash', 'loveisland', 'loveislanduk', 'np', 'levym', 'benjypercussionist', 'afrohouse', 'amapiano', 'drumsradio', 'talkswithash', 'loveisland', 'التسوق_الذكي', 'talkswithash', 'fortnite', 'epicgames', 'loveisland', 'cev', 'immunocompromised', 'evusheld', 'garylineker', 'firstplay', 'bbc6music', 'clownfall', 'westandwithimranriazkhan', 'talkswithash', 'toryresignations', 'torymeltdown', 'ukpolitics', 't', 'tories', 'costoflivingcrisis']\n"
     ]
    }
   ],
   "source": [
    "hashtg = re.findall(r\"#(\\w+)\", lower_case)\n",
    "print(hashtg)"
   ]
  },
  {
   "cell_type": "code",
   "execution_count": 12,
   "id": "6b438761",
   "metadata": {},
   "outputs": [
    {
     "name": "stdout",
     "output_type": "stream",
     "text": [
      "['talkswithash', 'lagosswindler', 'canterburytales', 'lagosswindlers', 'rony', 'palmeiras', 'chelsea', 'dybala', 'milan', 'cfc', 'borisout', 'borisjohnsonmustresign', 'byeboris', 'borisjohnsonmustgo', 'borisjohnson', 'trump', 'boris', 'johnsonmustgo', 'lagosswindlers', 'lastlast', 'avax', 'mitb', 'wwesmackdown', 'nowplaying', 'tonicskaradio', 'firstplay', 'bbc6music', 'loveisland', 'timefortrump', 'topray', 'pbrisingstars', 'talkswithash', 'loveisland', 'nowplaying', 'chris', 'hortonpark', 'epsom', 'nowplaying', 'loveisland', 'loveisland', 'firstplay', 'bbcr1', 'makeitmiami', 'loveisland', 'talkswithash', 'talkswithash', 'luxor', 'egypt', 'loveisland', 'topray', 'loveisland', 'itshappening', 'loveisland', 'rtitbot', 'الحلول', 'wordle383', 'bbcnewsnight', 'msmarvel', 'nevergiveup', 'willtowin', 'newsnight', 'gove', 'cillianmurphy', 'backtotheisland', 'wordle', 'wordle383', 'loveisland', 'np', 'afrohouse', 'amapiano', 'drumsradio', 'punkaintdead', 'trafficandweather', 'portofdover', 'peaceday', 'peaceday', 'robotsforpeace', 'loveisland', 'loveisland', 'borisout', 'itshappening', 'resignationwatch', 'harshrealitynosis', 'animalcrossingnewhorizons', 'acnh', 'animalcrossing', 'bell', 'brexitmeansbiscuits', 'biscuitsmeansbrexit', 'concept', 'firstplay', 'bbcradio2', 'londonremembers', 'costoflivingcrisis', 'nowplaying', 'muascam', 'internationalspacestation', 'aylesbury', 'i', 'nasa', 'space', 'nfts', '132', 'lagosswindlers', 'nowplaying', 'tonicskaradio', 'saintsfc', 'talkswithash', 'wordle383', 'firstplay', 'bbc6music', 'byeboris', 'electlabour', 'toriesunfittogovern', 'talkswithash', 'talkswithash', 'talkswithash', 'loveisland', 'loveislanduk', 'np', 'levym', 'benjypercussionist', 'afrohouse', 'amapiano', 'drumsradio', 'talkswithash', 'loveisland', 'التسوق_الذكي', 'talkswithash', 'fortnite', 'epicgames', 'loveisland', 'cev', 'immunocompromised', 'evusheld', 'garylineker', 'firstplay', 'bbc6music', 'clownfall', 'westandwithimranriazkhan', 'talkswithash', 'toryresignations', 'torymeltdown', 'ukpolitics', 't', 'tory', 'costoflivingcrisis']\n"
     ]
    }
   ],
   "source": [
    "# Lemmatization - From plural to single, and Base form of a word\n",
    "lemma_w = []\n",
    "for hashw in hashtg:\n",
    "    hashw = WordNetLemmatizer().lemmatize(hashw)\n",
    "    lemma_w.append(hashw)      \n",
    "print(lemma_w)"
   ]
  },
  {
   "cell_type": "markdown",
   "id": "58245782",
   "metadata": {},
   "source": [
    "## 5 Most Active Users"
   ]
  },
  {
   "cell_type": "code",
   "execution_count": 13,
   "id": "c55c532d",
   "metadata": {},
   "outputs": [
    {
     "data": {
      "text/html": [
       "<div>\n",
       "<style scoped>\n",
       "    .dataframe tbody tr th:only-of-type {\n",
       "        vertical-align: middle;\n",
       "    }\n",
       "\n",
       "    .dataframe tbody tr th {\n",
       "        vertical-align: top;\n",
       "    }\n",
       "\n",
       "    .dataframe thead th {\n",
       "        text-align: right;\n",
       "    }\n",
       "</style>\n",
       "<table border=\"1\" class=\"dataframe\">\n",
       "  <thead>\n",
       "    <tr style=\"text-align: right;\">\n",
       "      <th></th>\n",
       "      <th>username</th>\n",
       "      <th>tweet</th>\n",
       "    </tr>\n",
       "  </thead>\n",
       "  <tbody>\n",
       "    <tr>\n",
       "      <th>0</th>\n",
       "      <td>WokinghamWeatha</td>\n",
       "      <td>Temp: 18.5�C. Humidity 71% Rain today 0.0 mm. ...</td>\n",
       "    </tr>\n",
       "    <tr>\n",
       "      <th>1</th>\n",
       "      <td>gk3020</td>\n",
       "      <td>Sorry guys… you will have to drag me out of no...</td>\n",
       "    </tr>\n",
       "    <tr>\n",
       "      <th>2</th>\n",
       "      <td>_ACasso</td>\n",
       "      <td>My heart just skipped a beat seeing “The Lord ...</td>\n",
       "    </tr>\n",
       "    <tr>\n",
       "      <th>3</th>\n",
       "      <td>prowerrr_</td>\n",
       "      <td>Your mother could be LGBTQ\\nYour father could ...</td>\n",
       "    </tr>\n",
       "    <tr>\n",
       "      <th>4</th>\n",
       "      <td>mylewishamilton</td>\n",
       "      <td>EU GRITEI TANTO NESSE GOL</td>\n",
       "    </tr>\n",
       "  </tbody>\n",
       "</table>\n",
       "</div>"
      ],
      "text/plain": [
       "          username                                              tweet\n",
       "0  WokinghamWeatha  Temp: 18.5�C. Humidity 71% Rain today 0.0 mm. ...\n",
       "1           gk3020  Sorry guys… you will have to drag me out of no...\n",
       "2          _ACasso  My heart just skipped a beat seeing “The Lord ...\n",
       "3        prowerrr_  Your mother could be LGBTQ\\nYour father could ...\n",
       "4  mylewishamilton                          EU GRITEI TANTO NESSE GOL"
      ]
     },
     "execution_count": 13,
     "metadata": {},
     "output_type": "execute_result"
    }
   ],
   "source": [
    "df = pd.read_csv('London_tweets.csv')\n",
    "df = df.drop(columns = ['id','date'])\n",
    "df.head(5)"
   ]
  },
  {
   "cell_type": "code",
   "execution_count": 14,
   "id": "9ca6ec76",
   "metadata": {},
   "outputs": [
    {
     "data": {
      "text/plain": [
       "username    0\n",
       "tweet       0\n",
       "dtype: int64"
      ]
     },
     "execution_count": 14,
     "metadata": {},
     "output_type": "execute_result"
    }
   ],
   "source": [
    "df.isnull().sum()"
   ]
  },
  {
   "cell_type": "code",
   "execution_count": 15,
   "id": "9b2ce32c",
   "metadata": {},
   "outputs": [
    {
     "data": {
      "text/plain": [
       "701"
      ]
     },
     "execution_count": 15,
     "metadata": {},
     "output_type": "execute_result"
    }
   ],
   "source": [
    "len(df)"
   ]
  },
  {
   "cell_type": "code",
   "execution_count": 16,
   "id": "dcec7b6d",
   "metadata": {},
   "outputs": [
    {
     "data": {
      "text/plain": [
       "pgnyash           12\n",
       "SpikellaxGrimm    11\n",
       "queenlathifath    10\n",
       "Sep1914Antonio     8\n",
       "ftg_soccer         6\n",
       "Name: username, dtype: int64"
      ]
     },
     "execution_count": 16,
     "metadata": {},
     "output_type": "execute_result"
    }
   ],
   "source": [
    "#df['username'].unique()\n",
    "userlist = df['username'].value_counts()\n",
    "most_active_users = userlist.head(5)\n",
    "most_active_users"
   ]
  },
  {
   "cell_type": "code",
   "execution_count": 17,
   "id": "82afd1d8",
   "metadata": {},
   "outputs": [
    {
     "data": {
      "image/png": "[encoded data removed]",
      "text/plain": [
       "<Figure size 360x360 with 1 Axes>"
      ]
     },
     "metadata": {},
     "output_type": "display_data"
    }
   ],
   "source": [
    "plot_users=most_active_users.plot.pie(autopct='%1.1f%%', figsize=(5, 5))\n",
    "plt.savefig(\"Piechart\",transparent=False, bbox_inches='tight',pad_inches=0.1)"
   ]
  },
  {
   "cell_type": "markdown",
   "id": "2b11d2ad",
   "metadata": {},
   "source": [
    "## Sentiment Analysis with nltk"
   ]
  },
  {
   "cell_type": "code",
   "execution_count": 18,
   "id": "5ecf8fc1",
   "metadata": {},
   "outputs": [
    {
     "name": "stderr",
     "output_type": "stream",
     "text": [
      "[nltk_data] Downloading package vader_lexicon to\n",
      "[nltk_data]     C:\\Users\\HENNY\\AppData\\Roaming\\nltk_data...\n",
      "[nltk_data]   Package vader_lexicon is already up-to-date!\n"
     ]
    }
   ],
   "source": [
    "import nltk\n",
    "nltk.download('vader_lexicon')\n",
    "\n",
    "sid = SentimentIntensityAnalyzer()"
   ]
  },
  {
   "cell_type": "code",
   "execution_count": 19,
   "id": "37bc7b4d",
   "metadata": {},
   "outputs": [
    {
     "data": {
      "text/html": [
       "<div>\n",
       "<style scoped>\n",
       "    .dataframe tbody tr th:only-of-type {\n",
       "        vertical-align: middle;\n",
       "    }\n",
       "\n",
       "    .dataframe tbody tr th {\n",
       "        vertical-align: top;\n",
       "    }\n",
       "\n",
       "    .dataframe thead th {\n",
       "        text-align: right;\n",
       "    }\n",
       "</style>\n",
       "<table border=\"1\" class=\"dataframe\">\n",
       "  <thead>\n",
       "    <tr style=\"text-align: right;\">\n",
       "      <th></th>\n",
       "      <th>tweet</th>\n",
       "    </tr>\n",
       "  </thead>\n",
       "  <tbody>\n",
       "    <tr>\n",
       "      <th>0</th>\n",
       "      <td>Temp: 18.5�C. Humidity 71% Rain today 0.0 mm. ...</td>\n",
       "    </tr>\n",
       "    <tr>\n",
       "      <th>1</th>\n",
       "      <td>Sorry guys… you will have to drag me out of no...</td>\n",
       "    </tr>\n",
       "    <tr>\n",
       "      <th>2</th>\n",
       "      <td>My heart just skipped a beat seeing “The Lord ...</td>\n",
       "    </tr>\n",
       "    <tr>\n",
       "      <th>3</th>\n",
       "      <td>Your mother could be LGBTQ\\nYour father could ...</td>\n",
       "    </tr>\n",
       "    <tr>\n",
       "      <th>4</th>\n",
       "      <td>EU GRITEI TANTO NESSE GOL</td>\n",
       "    </tr>\n",
       "  </tbody>\n",
       "</table>\n",
       "</div>"
      ],
      "text/plain": [
       "                                               tweet\n",
       "0  Temp: 18.5�C. Humidity 71% Rain today 0.0 mm. ...\n",
       "1  Sorry guys… you will have to drag me out of no...\n",
       "2  My heart just skipped a beat seeing “The Lord ...\n",
       "3  Your mother could be LGBTQ\\nYour father could ...\n",
       "4                          EU GRITEI TANTO NESSE GOL"
      ]
     },
     "execution_count": 19,
     "metadata": {},
     "output_type": "execute_result"
    }
   ],
   "source": [
    "df1 = df.drop(columns = ['username'])\n",
    "df1.head(5)"
   ]
  },
  {
   "cell_type": "code",
   "execution_count": 20,
   "id": "128ce2b3",
   "metadata": {},
   "outputs": [
    {
     "data": {
      "text/plain": [
       "{'neg': 0.074, 'neu': 0.926, 'pos': 0.0, 'compound': -0.1531}"
      ]
     },
     "execution_count": 20,
     "metadata": {},
     "output_type": "execute_result"
    }
   ],
   "source": [
    "#df1.value_counts()\n",
    "sid.polarity_scores(df1.loc[0]['tweet'])"
   ]
  },
  {
   "cell_type": "code",
   "execution_count": 21,
   "id": "48cc53ae",
   "metadata": {},
   "outputs": [],
   "source": [
    "df1.dropna(inplace=True)\n",
    "blanks = []  \n",
    "for i,lb,rv in df.itertuples():  \n",
    "    if type(rv)==str:            \n",
    "        if rv.isspace():         \n",
    "            blanks.append(i)  \n",
    "df1.drop(blanks, inplace=True)"
   ]
  },
  {
   "cell_type": "code",
   "execution_count": 22,
   "id": "a24794e4",
   "metadata": {},
   "outputs": [
    {
     "data": {
      "text/html": [
       "<div>\n",
       "<style scoped>\n",
       "    .dataframe tbody tr th:only-of-type {\n",
       "        vertical-align: middle;\n",
       "    }\n",
       "\n",
       "    .dataframe tbody tr th {\n",
       "        vertical-align: top;\n",
       "    }\n",
       "\n",
       "    .dataframe thead th {\n",
       "        text-align: right;\n",
       "    }\n",
       "</style>\n",
       "<table border=\"1\" class=\"dataframe\">\n",
       "  <thead>\n",
       "    <tr style=\"text-align: right;\">\n",
       "      <th></th>\n",
       "      <th>tweet</th>\n",
       "      <th>score</th>\n",
       "      <th>compound</th>\n",
       "      <th>sentiment</th>\n",
       "    </tr>\n",
       "  </thead>\n",
       "  <tbody>\n",
       "    <tr>\n",
       "      <th>0</th>\n",
       "      <td>Temp: 18.5�C. Humidity 71% Rain today 0.0 mm. ...</td>\n",
       "      <td>{'neg': 0.074, 'neu': 0.926, 'pos': 0.0, 'comp...</td>\n",
       "      <td>-0.1531</td>\n",
       "      <td>negative</td>\n",
       "    </tr>\n",
       "    <tr>\n",
       "      <th>1</th>\n",
       "      <td>Sorry guys… you will have to drag me out of no...</td>\n",
       "      <td>{'neg': 0.213, 'neu': 0.787, 'pos': 0.0, 'comp...</td>\n",
       "      <td>-0.5267</td>\n",
       "      <td>negative</td>\n",
       "    </tr>\n",
       "    <tr>\n",
       "      <th>2</th>\n",
       "      <td>My heart just skipped a beat seeing “The Lord ...</td>\n",
       "      <td>{'neg': 0.0, 'neu': 0.877, 'pos': 0.123, 'comp...</td>\n",
       "      <td>0.5423</td>\n",
       "      <td>positive</td>\n",
       "    </tr>\n",
       "    <tr>\n",
       "      <th>3</th>\n",
       "      <td>Your mother could be LGBTQ\\nYour father could ...</td>\n",
       "      <td>{'neg': 0.0, 'neu': 0.823, 'pos': 0.177, 'comp...</td>\n",
       "      <td>0.4215</td>\n",
       "      <td>positive</td>\n",
       "    </tr>\n",
       "    <tr>\n",
       "      <th>4</th>\n",
       "      <td>EU GRITEI TANTO NESSE GOL</td>\n",
       "      <td>{'neg': 0.0, 'neu': 1.0, 'pos': 0.0, 'compound...</td>\n",
       "      <td>0.0000</td>\n",
       "      <td>positive</td>\n",
       "    </tr>\n",
       "    <tr>\n",
       "      <th>5</th>\n",
       "      <td>Castillo is hands down one of the funniest peo...</td>\n",
       "      <td>{'neg': 0.0, 'neu': 0.783, 'pos': 0.217, 'comp...</td>\n",
       "      <td>0.5574</td>\n",
       "      <td>positive</td>\n",
       "    </tr>\n",
       "    <tr>\n",
       "      <th>6</th>\n",
       "      <td>desayunando ya por fin 🙏</td>\n",
       "      <td>{'neg': 0.0, 'neu': 1.0, 'pos': 0.0, 'compound...</td>\n",
       "      <td>0.0000</td>\n",
       "      <td>positive</td>\n",
       "    </tr>\n",
       "    <tr>\n",
       "      <th>7</th>\n",
       "      <td>tell me why kyle is tutting me in his sleep ff...</td>\n",
       "      <td>{'neg': 0.318, 'neu': 0.682, 'pos': 0.0, 'comp...</td>\n",
       "      <td>-0.7906</td>\n",
       "      <td>negative</td>\n",
       "    </tr>\n",
       "    <tr>\n",
       "      <th>8</th>\n",
       "      <td>I could watch cooking shows for the rest of my...</td>\n",
       "      <td>{'neg': 0.0, 'neu': 1.0, 'pos': 0.0, 'compound...</td>\n",
       "      <td>0.0000</td>\n",
       "      <td>positive</td>\n",
       "    </tr>\n",
       "    <tr>\n",
       "      <th>9</th>\n",
       "      <td>Thinking of doing a live listening party for b...</td>\n",
       "      <td>{'neg': 0.0, 'neu': 0.748, 'pos': 0.252, 'comp...</td>\n",
       "      <td>0.4019</td>\n",
       "      <td>positive</td>\n",
       "    </tr>\n",
       "  </tbody>\n",
       "</table>\n",
       "</div>"
      ],
      "text/plain": [
       "                                               tweet  \\\n",
       "0  Temp: 18.5�C. Humidity 71% Rain today 0.0 mm. ...   \n",
       "1  Sorry guys… you will have to drag me out of no...   \n",
       "2  My heart just skipped a beat seeing “The Lord ...   \n",
       "3  Your mother could be LGBTQ\\nYour father could ...   \n",
       "4                          EU GRITEI TANTO NESSE GOL   \n",
       "5  Castillo is hands down one of the funniest peo...   \n",
       "6                           desayunando ya por fin 🙏   \n",
       "7  tell me why kyle is tutting me in his sleep ff...   \n",
       "8  I could watch cooking shows for the rest of my...   \n",
       "9  Thinking of doing a live listening party for b...   \n",
       "\n",
       "                                               score  compound sentiment  \n",
       "0  {'neg': 0.074, 'neu': 0.926, 'pos': 0.0, 'comp...   -0.1531  negative  \n",
       "1  {'neg': 0.213, 'neu': 0.787, 'pos': 0.0, 'comp...   -0.5267  negative  \n",
       "2  {'neg': 0.0, 'neu': 0.877, 'pos': 0.123, 'comp...    0.5423  positive  \n",
       "3  {'neg': 0.0, 'neu': 0.823, 'pos': 0.177, 'comp...    0.4215  positive  \n",
       "4  {'neg': 0.0, 'neu': 1.0, 'pos': 0.0, 'compound...    0.0000  positive  \n",
       "5  {'neg': 0.0, 'neu': 0.783, 'pos': 0.217, 'comp...    0.5574  positive  \n",
       "6  {'neg': 0.0, 'neu': 1.0, 'pos': 0.0, 'compound...    0.0000  positive  \n",
       "7  {'neg': 0.318, 'neu': 0.682, 'pos': 0.0, 'comp...   -0.7906  negative  \n",
       "8  {'neg': 0.0, 'neu': 1.0, 'pos': 0.0, 'compound...    0.0000  positive  \n",
       "9  {'neg': 0.0, 'neu': 0.748, 'pos': 0.252, 'comp...    0.4019  positive  "
      ]
     },
     "execution_count": 22,
     "metadata": {},
     "output_type": "execute_result"
    }
   ],
   "source": [
    "#df1['tweet'].value_counts()\n",
    "df1['score'] = df1['tweet'].apply(lambda review: sid.polarity_scores(review))\n",
    "df1['compound']  = df1['score'].apply(lambda score_dict: score_dict['compound'])\n",
    "df1['sentiment'] = df1['compound'].apply(lambda c: 'positive' if c >=0 else 'negative')\n",
    "df1.head(10)"
   ]
  },
  {
   "cell_type": "code",
   "execution_count": 23,
   "id": "598cb478",
   "metadata": {},
   "outputs": [
    {
     "data": {
      "text/plain": [
       "'Sorry guys… you will have to drag me out of no 10.its too cosy and comfy in here. My skin is Too thick .'"
      ]
     },
     "execution_count": 23,
     "metadata": {},
     "output_type": "execute_result"
    }
   ],
   "source": [
    "df1['tweet'][1]"
   ]
  },
  {
   "cell_type": "code",
   "execution_count": 24,
   "id": "42442926",
   "metadata": {},
   "outputs": [
    {
     "data": {
      "text/plain": [
       "'Thinking of doing a live listening party for burnas album'"
      ]
     },
     "execution_count": 24,
     "metadata": {},
     "output_type": "execute_result"
    }
   ],
   "source": [
    "df1['tweet'][9]"
   ]
  },
  {
   "cell_type": "markdown",
   "id": "a73257b7",
   "metadata": {},
   "source": [
    "# Topic extraction with LDA (Latent Dirichlet Allocation)"
   ]
  },
  {
   "cell_type": "code",
   "execution_count": 25,
   "id": "c499dece",
   "metadata": {},
   "outputs": [
    {
     "data": {
      "text/plain": [
       "<701x3768 sparse matrix of type '<class 'numpy.int64'>'\n",
       "\twith 6068 stored elements in Compressed Sparse Row format>"
      ]
     },
     "execution_count": 25,
     "metadata": {},
     "output_type": "execute_result"
    }
   ],
   "source": [
    "import pandas as pd\n",
    "from sklearn.feature_extraction.text import CountVectorizer\n",
    "countv = CountVectorizer(min_df=1,max_df=0.9,stop_words='english')\n",
    "dm = countv.fit_transform(df1['tweet'])\n",
    "dm"
   ]
  },
  {
   "cell_type": "code",
   "execution_count": 26,
   "id": "ab02ba07",
   "metadata": {},
   "outputs": [
    {
     "data": {
      "text/plain": [
       "LatentDirichletAllocation(n_components=5, random_state=42)"
      ]
     },
     "execution_count": 26,
     "metadata": {},
     "output_type": "execute_result"
    }
   ],
   "source": [
    "#LDA\n",
    "from sklearn.decomposition import LatentDirichletAllocation\n",
    "LDA = LatentDirichletAllocation(n_components=5,random_state=42)\n",
    "LDA.fit(dm)"
   ]
  },
  {
   "cell_type": "code",
   "execution_count": 27,
   "id": "2e09cece",
   "metadata": {},
   "outputs": [
    {
     "data": {
      "text/plain": [
       "'ficar'"
      ]
     },
     "execution_count": 27,
     "metadata": {},
     "output_type": "execute_result"
    }
   ],
   "source": [
    "countv.get_feature_names()[1111]"
   ]
  },
  {
   "cell_type": "code",
   "execution_count": 28,
   "id": "0cf03831",
   "metadata": {},
   "outputs": [
    {
     "data": {
      "text/plain": [
       "3768"
      ]
     },
     "execution_count": 28,
     "metadata": {},
     "output_type": "execute_result"
    }
   ],
   "source": [
    "len(countv.get_feature_names())"
   ]
  },
  {
   "cell_type": "code",
   "execution_count": 29,
   "id": "880b5ef5",
   "metadata": {},
   "outputs": [
    {
     "name": "stdout",
     "output_type": "stream",
     "text": [
      "ccd1\n",
      "cette\n",
      "doida\n",
      "brown\n",
      "change\n"
     ]
    }
   ],
   "source": [
    "import random\n",
    "for i in range(5):\n",
    "    random_word_id = random.randint(0,1120)\n",
    "    print(countv.get_feature_names()[random_word_id])"
   ]
  },
  {
   "cell_type": "code",
   "execution_count": 30,
   "id": "2f65119e",
   "metadata": {},
   "outputs": [
    {
     "name": "stdout",
     "output_type": "stream",
     "text": [
      "daenerys\n",
      "effects\n",
      "currently\n",
      "feetgoddess\n"
     ]
    }
   ],
   "source": [
    "for i in range(4):\n",
    "    random_word_id = random.randint(0,1232)\n",
    "    print(countv.get_feature_names()[random_word_id])"
   ]
  },
  {
   "cell_type": "code",
   "execution_count": 31,
   "id": "2874e095",
   "metadata": {},
   "outputs": [
    {
     "data": {
      "text/plain": [
       "array([[0.20000212, 0.2000061 , 0.20000916, ..., 0.20000315, 0.20000315,\n",
       "        0.20000274],\n",
       "       [0.20000226, 0.20000597, 0.20000921, ..., 0.20000333, 0.20000333,\n",
       "        0.2000029 ],\n",
       "       [1.19999107, 0.20000712, 3.20331573, ..., 0.20000323, 0.20000323,\n",
       "        0.20000281],\n",
       "       [0.2000022 , 0.20000613, 0.20000931, ..., 0.20000328, 0.20000328,\n",
       "        0.20000285],\n",
       "       [0.20000235, 1.19997469, 1.19665659, ..., 1.199987  , 1.199987  ,\n",
       "        2.1999887 ]])"
      ]
     },
     "execution_count": 31,
     "metadata": {},
     "output_type": "execute_result"
    }
   ],
   "source": [
    "LDA.components_"
   ]
  },
  {
   "cell_type": "code",
   "execution_count": 32,
   "id": "5120dbaf",
   "metadata": {},
   "outputs": [
    {
     "data": {
      "text/plain": [
       "3768"
      ]
     },
     "execution_count": 32,
     "metadata": {},
     "output_type": "execute_result"
    }
   ],
   "source": [
    "len(LDA.components_[0])"
   ]
  },
  {
   "cell_type": "code",
   "execution_count": 33,
   "id": "7caddbb8",
   "metadata": {},
   "outputs": [],
   "source": [
    "eachtopic = LDA.components_[0]"
   ]
  },
  {
   "cell_type": "code",
   "execution_count": 34,
   "id": "9addaee3",
   "metadata": {},
   "outputs": [
    {
     "data": {
      "text/plain": [
       "array([3520, 3496, 3253, ..., 2145, 1600, 1320], dtype=int64)"
      ]
     },
     "execution_count": 34,
     "metadata": {},
     "output_type": "execute_result"
    }
   ],
   "source": [
    "eachtopic.argsort()"
   ]
  },
  {
   "cell_type": "code",
   "execution_count": 35,
   "id": "003d0a40",
   "metadata": {},
   "outputs": [
    {
     "data": {
      "text/plain": [
       "0.20000089671088062"
      ]
     },
     "execution_count": 35,
     "metadata": {},
     "output_type": "execute_result"
    }
   ],
   "source": [
    "eachtopic[183]"
   ]
  },
  {
   "cell_type": "code",
   "execution_count": 36,
   "id": "5be4a00f",
   "metadata": {},
   "outputs": [
    {
     "data": {
      "text/plain": [
       "array([3135,  857, 2145, 1600, 1320], dtype=int64)"
      ]
     },
     "execution_count": 36,
     "metadata": {},
     "output_type": "execute_result"
    }
   ],
   "source": [
    "# Top 5 words for this topic:\n",
    "eachtopic.argsort()[-5:]"
   ]
  },
  {
   "cell_type": "code",
   "execution_count": 37,
   "id": "73e765d9",
   "metadata": {},
   "outputs": [
    {
     "name": "stdout",
     "output_type": "stream",
     "text": [
      "want\n",
      "don\n",
      "palmeiras\n",
      "just\n",
      "h70\n"
     ]
    }
   ],
   "source": [
    "word_top = eachtopic.argsort()[-5:]\n",
    "for index in word_top:\n",
    "    print(countv.get_feature_names()[index])"
   ]
  },
  {
   "cell_type": "code",
   "execution_count": 57,
   "id": "1c89431a",
   "metadata": {},
   "outputs": [
    {
     "name": "stdout",
     "output_type": "stream",
     "text": [
      "5 Most common discussed topic #0\n",
      "['want', 'don', 'palmeiras', 'just', 'h70']\n",
      "\n",
      "\n",
      "5 Most common discussed topic #1\n",
      "['really', 'h70', 'time', 'eu', 'like']\n",
      "\n",
      "\n",
      "5 Most common discussed topic #2\n",
      "['نون', 'نمشے', 'que', 'ol97', 'w77']\n",
      "\n",
      "\n",
      "5 Most common discussed topic #3\n",
      "['just', 'um', 'dey', 'time', 'think']\n",
      "\n",
      "\n",
      "5 Most common discussed topic #4\n",
      "['new', 'just', '383', 'wordle', 'gt']\n",
      "\n",
      "\n"
     ]
    }
   ],
   "source": [
    "for index,topic in enumerate(LDA.components_):\n",
    "    print(f'5 Most common discussed topic #{index}')\n",
    "    print([countv.get_feature_names()[i] for i in topic.argsort()[-5:]])\n",
    "    print('\\n')"
   ]
  },
  {
   "cell_type": "code",
   "execution_count": 39,
   "id": "9ba71fd3",
   "metadata": {},
   "outputs": [
    {
     "data": {
      "text/plain": [
       "<701x3768 sparse matrix of type '<class 'numpy.int64'>'\n",
       "\twith 6068 stored elements in Compressed Sparse Row format>"
      ]
     },
     "execution_count": 39,
     "metadata": {},
     "output_type": "execute_result"
    }
   ],
   "source": [
    "dm"
   ]
  },
  {
   "cell_type": "code",
   "execution_count": 40,
   "id": "786f7478",
   "metadata": {},
   "outputs": [
    {
     "data": {
      "text/plain": [
       "(701, 3768)"
      ]
     },
     "execution_count": 40,
     "metadata": {},
     "output_type": "execute_result"
    }
   ],
   "source": [
    "dm.shape"
   ]
  },
  {
   "cell_type": "code",
   "execution_count": 41,
   "id": "e0974822",
   "metadata": {},
   "outputs": [],
   "source": [
    "topic_res = LDA.transform(dm)"
   ]
  },
  {
   "cell_type": "code",
   "execution_count": 42,
   "id": "3c3d82a5",
   "metadata": {},
   "outputs": [
    {
     "data": {
      "text/plain": [
       "(701, 5)"
      ]
     },
     "execution_count": 42,
     "metadata": {},
     "output_type": "execute_result"
    }
   ],
   "source": [
    "topic_res.shape"
   ]
  },
  {
   "cell_type": "code",
   "execution_count": 43,
   "id": "0e731994",
   "metadata": {},
   "outputs": [
    {
     "data": {
      "text/plain": [
       "array([0.52028334, 0.01055084, 0.44806772, 0.01053113, 0.01056697])"
      ]
     },
     "execution_count": 43,
     "metadata": {},
     "output_type": "execute_result"
    }
   ],
   "source": [
    "topic_res[0]"
   ]
  },
  {
   "cell_type": "code",
   "execution_count": 44,
   "id": "7d718bf4",
   "metadata": {},
   "outputs": [
    {
     "data": {
      "text/plain": [
       "array([0.52, 0.01, 0.45, 0.01, 0.01])"
      ]
     },
     "execution_count": 44,
     "metadata": {},
     "output_type": "execute_result"
    }
   ],
   "source": [
    "topic_res[0].round(2)"
   ]
  },
  {
   "cell_type": "code",
   "execution_count": 45,
   "id": "aaf56c35",
   "metadata": {},
   "outputs": [
    {
     "data": {
      "text/plain": [
       "0"
      ]
     },
     "execution_count": 45,
     "metadata": {},
     "output_type": "execute_result"
    }
   ],
   "source": [
    "topic_res[0].argmax()"
   ]
  },
  {
   "cell_type": "code",
   "execution_count": 46,
   "id": "288b7ced",
   "metadata": {},
   "outputs": [
    {
     "data": {
      "text/html": [
       "<div>\n",
       "<style scoped>\n",
       "    .dataframe tbody tr th:only-of-type {\n",
       "        vertical-align: middle;\n",
       "    }\n",
       "\n",
       "    .dataframe tbody tr th {\n",
       "        vertical-align: top;\n",
       "    }\n",
       "\n",
       "    .dataframe thead th {\n",
       "        text-align: right;\n",
       "    }\n",
       "</style>\n",
       "<table border=\"1\" class=\"dataframe\">\n",
       "  <thead>\n",
       "    <tr style=\"text-align: right;\">\n",
       "      <th></th>\n",
       "      <th>tweet</th>\n",
       "      <th>score</th>\n",
       "      <th>compound</th>\n",
       "      <th>sentiment</th>\n",
       "    </tr>\n",
       "  </thead>\n",
       "  <tbody>\n",
       "    <tr>\n",
       "      <th>0</th>\n",
       "      <td>Temp: 18.5�C. Humidity 71% Rain today 0.0 mm. ...</td>\n",
       "      <td>{'neg': 0.074, 'neu': 0.926, 'pos': 0.0, 'comp...</td>\n",
       "      <td>-0.1531</td>\n",
       "      <td>negative</td>\n",
       "    </tr>\n",
       "    <tr>\n",
       "      <th>1</th>\n",
       "      <td>Sorry guys… you will have to drag me out of no...</td>\n",
       "      <td>{'neg': 0.213, 'neu': 0.787, 'pos': 0.0, 'comp...</td>\n",
       "      <td>-0.5267</td>\n",
       "      <td>negative</td>\n",
       "    </tr>\n",
       "    <tr>\n",
       "      <th>2</th>\n",
       "      <td>My heart just skipped a beat seeing “The Lord ...</td>\n",
       "      <td>{'neg': 0.0, 'neu': 0.877, 'pos': 0.123, 'comp...</td>\n",
       "      <td>0.5423</td>\n",
       "      <td>positive</td>\n",
       "    </tr>\n",
       "    <tr>\n",
       "      <th>3</th>\n",
       "      <td>Your mother could be LGBTQ\\nYour father could ...</td>\n",
       "      <td>{'neg': 0.0, 'neu': 0.823, 'pos': 0.177, 'comp...</td>\n",
       "      <td>0.4215</td>\n",
       "      <td>positive</td>\n",
       "    </tr>\n",
       "    <tr>\n",
       "      <th>4</th>\n",
       "      <td>EU GRITEI TANTO NESSE GOL</td>\n",
       "      <td>{'neg': 0.0, 'neu': 1.0, 'pos': 0.0, 'compound...</td>\n",
       "      <td>0.0000</td>\n",
       "      <td>positive</td>\n",
       "    </tr>\n",
       "  </tbody>\n",
       "</table>\n",
       "</div>"
      ],
      "text/plain": [
       "                                               tweet  \\\n",
       "0  Temp: 18.5�C. Humidity 71% Rain today 0.0 mm. ...   \n",
       "1  Sorry guys… you will have to drag me out of no...   \n",
       "2  My heart just skipped a beat seeing “The Lord ...   \n",
       "3  Your mother could be LGBTQ\\nYour father could ...   \n",
       "4                          EU GRITEI TANTO NESSE GOL   \n",
       "\n",
       "                                               score  compound sentiment  \n",
       "0  {'neg': 0.074, 'neu': 0.926, 'pos': 0.0, 'comp...   -0.1531  negative  \n",
       "1  {'neg': 0.213, 'neu': 0.787, 'pos': 0.0, 'comp...   -0.5267  negative  \n",
       "2  {'neg': 0.0, 'neu': 0.877, 'pos': 0.123, 'comp...    0.5423  positive  \n",
       "3  {'neg': 0.0, 'neu': 0.823, 'pos': 0.177, 'comp...    0.4215  positive  \n",
       "4  {'neg': 0.0, 'neu': 1.0, 'pos': 0.0, 'compound...    0.0000  positive  "
      ]
     },
     "execution_count": 46,
     "metadata": {},
     "output_type": "execute_result"
    }
   ],
   "source": [
    "df1.head()"
   ]
  },
  {
   "cell_type": "code",
   "execution_count": 47,
   "id": "071de75b",
   "metadata": {},
   "outputs": [
    {
     "data": {
      "text/plain": [
       "array([0, 3, 2, 1, 0, 0, 2, 2, 3, 3, 2, 3, 2, 3, 2, 3, 4, 1, 4, 4, 1, 1,\n",
       "       0, 2, 0, 1, 4, 0, 1, 0, 1, 3, 1, 3, 3, 0, 2, 0, 4, 2, 2, 0, 4, 1,\n",
       "       2, 4, 4, 3, 0, 3, 2, 0, 0, 3, 1, 2, 4, 0, 0, 0, 3, 1, 2, 2, 2, 2,\n",
       "       3, 3, 3, 2, 2, 1, 4, 0, 2, 1, 4, 3, 4, 4, 0, 3, 4, 2, 3, 4, 2, 3,\n",
       "       1, 1, 4, 3, 4, 1, 0, 1, 0, 3, 2, 0, 3, 0, 3, 0, 3, 4, 1, 3, 4, 1,\n",
       "       3, 1, 0, 0, 4, 1, 1, 4, 0, 2, 1, 1, 0, 0, 4, 2, 0, 3, 1, 3, 4, 1,\n",
       "       4, 0, 3, 0, 4, 3, 2, 3, 2, 2, 2, 1, 2, 3, 1, 3, 1, 1, 0, 0, 2, 3,\n",
       "       4, 1, 1, 3, 3, 0, 0, 2, 3, 0, 2, 3, 2, 3, 2, 0, 2, 2, 0, 0, 0, 4,\n",
       "       4, 1, 4, 2, 2, 1, 4, 2, 2, 2, 4, 2, 3, 4, 4, 2, 1, 4, 3, 1, 4, 3,\n",
       "       2, 2, 0, 2, 1, 4, 3, 4, 3, 2, 2, 1, 4, 1, 4, 3, 0, 2, 1, 4, 2, 3,\n",
       "       4, 4, 4, 2, 0, 1, 0, 3, 1, 3, 1, 4, 4, 1, 2, 3, 1, 4, 0, 3, 2, 1,\n",
       "       2, 2, 3, 3, 3, 2, 0, 2, 0, 3, 1, 4, 0, 1, 1, 1, 1, 1, 0, 0, 3, 0,\n",
       "       3, 2, 4, 0, 1, 1, 0, 1, 3, 3, 2, 2, 4, 4, 2, 4, 3, 1, 3, 1, 0, 0,\n",
       "       2, 1, 0, 1, 4, 4, 3, 4, 1, 3, 2, 3, 1, 0, 2, 4, 2, 1, 4, 3, 0, 0,\n",
       "       2, 4, 3, 1, 3, 0, 2, 0, 4, 4, 2, 3, 3, 4, 4, 3, 2, 4, 3, 2, 0, 1,\n",
       "       4, 4, 0, 1, 3, 1, 0, 4, 0, 2, 4, 2, 4, 3, 2, 1, 0, 2, 0, 2, 1, 4,\n",
       "       4, 3, 2, 2, 2, 3, 1, 0, 0, 4, 0, 1, 4, 4, 4, 0, 0, 3, 2, 2, 0, 3,\n",
       "       2, 4, 1, 0, 0, 3, 4, 2, 2, 3, 0, 3, 3, 4, 4, 2, 1, 0, 1, 4, 1, 0,\n",
       "       3, 0, 0, 2, 4, 4, 2, 3, 2, 3, 3, 3, 2, 2, 4, 1, 3, 2, 4, 0, 2, 4,\n",
       "       2, 4, 0, 1, 3, 3, 3, 2, 4, 2, 4, 0, 4, 2, 0, 2, 0, 0, 2, 4, 0, 0,\n",
       "       3, 3, 4, 3, 1, 0, 3, 4, 0, 4, 4, 0, 1, 0, 1, 0, 4, 0, 2, 0, 3, 2,\n",
       "       1, 1, 0, 3, 4, 0, 2, 2, 1, 0, 3, 4, 1, 4, 0, 2, 3, 4, 2, 3, 0, 4,\n",
       "       3, 0, 2, 3, 4, 1, 1, 2, 3, 1, 0, 1, 2, 1, 1, 0, 4, 2, 4, 0, 0, 1,\n",
       "       1, 0, 3, 0, 2, 0, 3, 1, 1, 4, 3, 2, 1, 1, 4, 2, 0, 2, 2, 0, 4, 2,\n",
       "       0, 4, 0, 0, 0, 1, 3, 3, 3, 0, 3, 2, 4, 2, 1, 0, 4, 2, 1, 4, 4, 0,\n",
       "       0, 1, 3, 2, 2, 3, 0, 2, 2, 0, 4, 2, 0, 0, 2, 1, 1, 2, 1, 2, 0, 4,\n",
       "       4, 0, 3, 4, 0, 0, 1, 2, 2, 0, 4, 1, 1, 0, 2, 4, 1, 3, 4, 3, 0, 1,\n",
       "       0, 4, 4, 1, 2, 1, 2, 3, 1, 3, 2, 0, 0, 3, 4, 1, 2, 3, 3, 2, 1, 1,\n",
       "       4, 4, 1, 0, 4, 2, 2, 1, 0, 4, 0, 3, 4, 4, 0, 4, 0, 3, 2, 0, 4, 0,\n",
       "       1, 4, 3, 0, 1, 1, 0, 0, 3, 2, 3, 4, 0, 3, 3, 3, 4, 4, 4, 4, 0, 4,\n",
       "       4, 1, 4, 4, 2, 4, 1, 4, 4, 4, 3, 2, 0, 2, 1, 2, 3, 1, 1, 2, 4, 4,\n",
       "       0, 3, 4, 1, 2, 0, 0, 0, 0, 4, 4, 0, 4, 1, 2, 1, 3, 4, 0],\n",
       "      dtype=int64)"
      ]
     },
     "execution_count": 47,
     "metadata": {},
     "output_type": "execute_result"
    }
   ],
   "source": [
    "topic_res.argmax(axis=1)"
   ]
  },
  {
   "cell_type": "code",
   "execution_count": 48,
   "id": "6f451d03",
   "metadata": {},
   "outputs": [],
   "source": [
    "df1['Topic'] = topic_res.argmax(axis=1)"
   ]
  },
  {
   "cell_type": "code",
   "execution_count": 49,
   "id": "58505de7",
   "metadata": {},
   "outputs": [
    {
     "data": {
      "text/html": [
       "<div>\n",
       "<style scoped>\n",
       "    .dataframe tbody tr th:only-of-type {\n",
       "        vertical-align: middle;\n",
       "    }\n",
       "\n",
       "    .dataframe tbody tr th {\n",
       "        vertical-align: top;\n",
       "    }\n",
       "\n",
       "    .dataframe thead th {\n",
       "        text-align: right;\n",
       "    }\n",
       "</style>\n",
       "<table border=\"1\" class=\"dataframe\">\n",
       "  <thead>\n",
       "    <tr style=\"text-align: right;\">\n",
       "      <th></th>\n",
       "      <th>tweet</th>\n",
       "      <th>score</th>\n",
       "      <th>compound</th>\n",
       "      <th>sentiment</th>\n",
       "      <th>Topic</th>\n",
       "    </tr>\n",
       "  </thead>\n",
       "  <tbody>\n",
       "    <tr>\n",
       "      <th>0</th>\n",
       "      <td>Temp: 18.5�C. Humidity 71% Rain today 0.0 mm. ...</td>\n",
       "      <td>{'neg': 0.074, 'neu': 0.926, 'pos': 0.0, 'comp...</td>\n",
       "      <td>-0.1531</td>\n",
       "      <td>negative</td>\n",
       "      <td>0</td>\n",
       "    </tr>\n",
       "    <tr>\n",
       "      <th>1</th>\n",
       "      <td>Sorry guys… you will have to drag me out of no...</td>\n",
       "      <td>{'neg': 0.213, 'neu': 0.787, 'pos': 0.0, 'comp...</td>\n",
       "      <td>-0.5267</td>\n",
       "      <td>negative</td>\n",
       "      <td>3</td>\n",
       "    </tr>\n",
       "    <tr>\n",
       "      <th>2</th>\n",
       "      <td>My heart just skipped a beat seeing “The Lord ...</td>\n",
       "      <td>{'neg': 0.0, 'neu': 0.877, 'pos': 0.123, 'comp...</td>\n",
       "      <td>0.5423</td>\n",
       "      <td>positive</td>\n",
       "      <td>2</td>\n",
       "    </tr>\n",
       "    <tr>\n",
       "      <th>3</th>\n",
       "      <td>Your mother could be LGBTQ\\nYour father could ...</td>\n",
       "      <td>{'neg': 0.0, 'neu': 0.823, 'pos': 0.177, 'comp...</td>\n",
       "      <td>0.4215</td>\n",
       "      <td>positive</td>\n",
       "      <td>1</td>\n",
       "    </tr>\n",
       "    <tr>\n",
       "      <th>4</th>\n",
       "      <td>EU GRITEI TANTO NESSE GOL</td>\n",
       "      <td>{'neg': 0.0, 'neu': 1.0, 'pos': 0.0, 'compound...</td>\n",
       "      <td>0.0000</td>\n",
       "      <td>positive</td>\n",
       "      <td>0</td>\n",
       "    </tr>\n",
       "  </tbody>\n",
       "</table>\n",
       "</div>"
      ],
      "text/plain": [
       "                                               tweet  \\\n",
       "0  Temp: 18.5�C. Humidity 71% Rain today 0.0 mm. ...   \n",
       "1  Sorry guys… you will have to drag me out of no...   \n",
       "2  My heart just skipped a beat seeing “The Lord ...   \n",
       "3  Your mother could be LGBTQ\\nYour father could ...   \n",
       "4                          EU GRITEI TANTO NESSE GOL   \n",
       "\n",
       "                                               score  compound sentiment  \\\n",
       "0  {'neg': 0.074, 'neu': 0.926, 'pos': 0.0, 'comp...   -0.1531  negative   \n",
       "1  {'neg': 0.213, 'neu': 0.787, 'pos': 0.0, 'comp...   -0.5267  negative   \n",
       "2  {'neg': 0.0, 'neu': 0.877, 'pos': 0.123, 'comp...    0.5423  positive   \n",
       "3  {'neg': 0.0, 'neu': 0.823, 'pos': 0.177, 'comp...    0.4215  positive   \n",
       "4  {'neg': 0.0, 'neu': 1.0, 'pos': 0.0, 'compound...    0.0000  positive   \n",
       "\n",
       "   Topic  \n",
       "0      0  \n",
       "1      3  \n",
       "2      2  \n",
       "3      1  \n",
       "4      0  "
      ]
     },
     "execution_count": 49,
     "metadata": {},
     "output_type": "execute_result"
    }
   ],
   "source": [
    "df1.head(5)"
   ]
  },
  {
   "cell_type": "markdown",
   "id": "ab5a3090",
   "metadata": {},
   "source": [
    "# Topic Modeling using NMF (Non-Negative Matric Factorization)"
   ]
  },
  {
   "cell_type": "code",
   "execution_count": 50,
   "id": "deeeb6ca",
   "metadata": {},
   "outputs": [
    {
     "data": {
      "text/plain": [
       "<701x3768 sparse matrix of type '<class 'numpy.float64'>'\n",
       "\twith 6068 stored elements in Compressed Sparse Row format>"
      ]
     },
     "execution_count": 50,
     "metadata": {},
     "output_type": "execute_result"
    }
   ],
   "source": [
    "from sklearn.feature_extraction.text import TfidfVectorizer\n",
    "tfidf = TfidfVectorizer(max_df=0.95, min_df=1, stop_words='english')\n",
    "dm = tfidf.fit_transform(df1['tweet'])\n",
    "dm"
   ]
  },
  {
   "cell_type": "code",
   "execution_count": 51,
   "id": "02b3041c",
   "metadata": {},
   "outputs": [
    {
     "data": {
      "text/plain": [
       "NMF(n_components=5, random_state=42)"
      ]
     },
     "execution_count": 51,
     "metadata": {},
     "output_type": "execute_result"
    }
   ],
   "source": [
    "from sklearn.decomposition import NMF\n",
    "nmf_model = NMF(n_components=5,random_state=42)\n",
    "nmf_model.fit(dm)"
   ]
  },
  {
   "cell_type": "code",
   "execution_count": 52,
   "id": "a7a039bd",
   "metadata": {},
   "outputs": [
    {
     "name": "stdout",
     "output_type": "stream",
     "text": [
      "Most common discussed topic #0\n",
      "['males', 'going', 'wordle383', '383', 'wordle']\n",
      "\n",
      "\n",
      "Most common discussed topic #1\n",
      "['discuss', 'paralyzes', 'poetry', 'نمشے', 'w77']\n",
      "\n",
      "\n",
      "Most common discussed topic #2\n",
      "['deliver', 'enamored', 'need', 'نون', 'ol97']\n",
      "\n",
      "\n",
      "Most common discussed topic #3\n",
      "['pippi', 'failed', 'truth', 'نمشے', 'h70']\n",
      "\n",
      "\n",
      "Most common discussed topic #4\n",
      "['porteño', 'south', 'cerro', 'copa', 'palmeiras']\n",
      "\n",
      "\n"
     ]
    }
   ],
   "source": [
    "for index,topic in enumerate(nmf_model.components_):\n",
    "    print(f'Most common discussed topic #{index}')\n",
    "    print([tfidf.get_feature_names()[i] for i in topic.argsort()[-5:]])\n",
    "    print('\\n')"
   ]
  },
  {
   "cell_type": "code",
   "execution_count": 53,
   "id": "769b2ab6",
   "metadata": {},
   "outputs": [
    {
     "data": {
      "text/html": [
       "<div>\n",
       "<style scoped>\n",
       "    .dataframe tbody tr th:only-of-type {\n",
       "        vertical-align: middle;\n",
       "    }\n",
       "\n",
       "    .dataframe tbody tr th {\n",
       "        vertical-align: top;\n",
       "    }\n",
       "\n",
       "    .dataframe thead th {\n",
       "        text-align: right;\n",
       "    }\n",
       "</style>\n",
       "<table border=\"1\" class=\"dataframe\">\n",
       "  <thead>\n",
       "    <tr style=\"text-align: right;\">\n",
       "      <th></th>\n",
       "      <th>tweet</th>\n",
       "      <th>score</th>\n",
       "      <th>compound</th>\n",
       "      <th>sentiment</th>\n",
       "      <th>Topic</th>\n",
       "    </tr>\n",
       "  </thead>\n",
       "  <tbody>\n",
       "    <tr>\n",
       "      <th>0</th>\n",
       "      <td>Temp: 18.5�C. Humidity 71% Rain today 0.0 mm. ...</td>\n",
       "      <td>{'neg': 0.074, 'neu': 0.926, 'pos': 0.0, 'comp...</td>\n",
       "      <td>-0.1531</td>\n",
       "      <td>negative</td>\n",
       "      <td>4</td>\n",
       "    </tr>\n",
       "    <tr>\n",
       "      <th>1</th>\n",
       "      <td>Sorry guys… you will have to drag me out of no...</td>\n",
       "      <td>{'neg': 0.213, 'neu': 0.787, 'pos': 0.0, 'comp...</td>\n",
       "      <td>-0.5267</td>\n",
       "      <td>negative</td>\n",
       "      <td>4</td>\n",
       "    </tr>\n",
       "    <tr>\n",
       "      <th>2</th>\n",
       "      <td>My heart just skipped a beat seeing “The Lord ...</td>\n",
       "      <td>{'neg': 0.0, 'neu': 0.877, 'pos': 0.123, 'comp...</td>\n",
       "      <td>0.5423</td>\n",
       "      <td>positive</td>\n",
       "      <td>2</td>\n",
       "    </tr>\n",
       "    <tr>\n",
       "      <th>3</th>\n",
       "      <td>Your mother could be LGBTQ\\nYour father could ...</td>\n",
       "      <td>{'neg': 0.0, 'neu': 0.823, 'pos': 0.177, 'comp...</td>\n",
       "      <td>0.4215</td>\n",
       "      <td>positive</td>\n",
       "      <td>1</td>\n",
       "    </tr>\n",
       "    <tr>\n",
       "      <th>4</th>\n",
       "      <td>EU GRITEI TANTO NESSE GOL</td>\n",
       "      <td>{'neg': 0.0, 'neu': 1.0, 'pos': 0.0, 'compound...</td>\n",
       "      <td>0.0000</td>\n",
       "      <td>positive</td>\n",
       "      <td>4</td>\n",
       "    </tr>\n",
       "    <tr>\n",
       "      <th>5</th>\n",
       "      <td>Castillo is hands down one of the funniest peo...</td>\n",
       "      <td>{'neg': 0.0, 'neu': 0.783, 'pos': 0.217, 'comp...</td>\n",
       "      <td>0.5574</td>\n",
       "      <td>positive</td>\n",
       "      <td>1</td>\n",
       "    </tr>\n",
       "    <tr>\n",
       "      <th>6</th>\n",
       "      <td>desayunando ya por fin 🙏</td>\n",
       "      <td>{'neg': 0.0, 'neu': 1.0, 'pos': 0.0, 'compound...</td>\n",
       "      <td>0.0000</td>\n",
       "      <td>positive</td>\n",
       "      <td>4</td>\n",
       "    </tr>\n",
       "    <tr>\n",
       "      <th>7</th>\n",
       "      <td>tell me why kyle is tutting me in his sleep ff...</td>\n",
       "      <td>{'neg': 0.318, 'neu': 0.682, 'pos': 0.0, 'comp...</td>\n",
       "      <td>-0.7906</td>\n",
       "      <td>negative</td>\n",
       "      <td>2</td>\n",
       "    </tr>\n",
       "    <tr>\n",
       "      <th>8</th>\n",
       "      <td>I could watch cooking shows for the rest of my...</td>\n",
       "      <td>{'neg': 0.0, 'neu': 1.0, 'pos': 0.0, 'compound...</td>\n",
       "      <td>0.0000</td>\n",
       "      <td>positive</td>\n",
       "      <td>1</td>\n",
       "    </tr>\n",
       "    <tr>\n",
       "      <th>9</th>\n",
       "      <td>Thinking of doing a live listening party for b...</td>\n",
       "      <td>{'neg': 0.0, 'neu': 0.748, 'pos': 0.252, 'comp...</td>\n",
       "      <td>0.4019</td>\n",
       "      <td>positive</td>\n",
       "      <td>3</td>\n",
       "    </tr>\n",
       "  </tbody>\n",
       "</table>\n",
       "</div>"
      ],
      "text/plain": [
       "                                               tweet  \\\n",
       "0  Temp: 18.5�C. Humidity 71% Rain today 0.0 mm. ...   \n",
       "1  Sorry guys… you will have to drag me out of no...   \n",
       "2  My heart just skipped a beat seeing “The Lord ...   \n",
       "3  Your mother could be LGBTQ\\nYour father could ...   \n",
       "4                          EU GRITEI TANTO NESSE GOL   \n",
       "5  Castillo is hands down one of the funniest peo...   \n",
       "6                           desayunando ya por fin 🙏   \n",
       "7  tell me why kyle is tutting me in his sleep ff...   \n",
       "8  I could watch cooking shows for the rest of my...   \n",
       "9  Thinking of doing a live listening party for b...   \n",
       "\n",
       "                                               score  compound sentiment  \\\n",
       "0  {'neg': 0.074, 'neu': 0.926, 'pos': 0.0, 'comp...   -0.1531  negative   \n",
       "1  {'neg': 0.213, 'neu': 0.787, 'pos': 0.0, 'comp...   -0.5267  negative   \n",
       "2  {'neg': 0.0, 'neu': 0.877, 'pos': 0.123, 'comp...    0.5423  positive   \n",
       "3  {'neg': 0.0, 'neu': 0.823, 'pos': 0.177, 'comp...    0.4215  positive   \n",
       "4  {'neg': 0.0, 'neu': 1.0, 'pos': 0.0, 'compound...    0.0000  positive   \n",
       "5  {'neg': 0.0, 'neu': 0.783, 'pos': 0.217, 'comp...    0.5574  positive   \n",
       "6  {'neg': 0.0, 'neu': 1.0, 'pos': 0.0, 'compound...    0.0000  positive   \n",
       "7  {'neg': 0.318, 'neu': 0.682, 'pos': 0.0, 'comp...   -0.7906  negative   \n",
       "8  {'neg': 0.0, 'neu': 1.0, 'pos': 0.0, 'compound...    0.0000  positive   \n",
       "9  {'neg': 0.0, 'neu': 0.748, 'pos': 0.252, 'comp...    0.4019  positive   \n",
       "\n",
       "   Topic  \n",
       "0      4  \n",
       "1      4  \n",
       "2      2  \n",
       "3      1  \n",
       "4      4  \n",
       "5      1  \n",
       "6      4  \n",
       "7      2  \n",
       "8      1  \n",
       "9      3  "
      ]
     },
     "execution_count": 53,
     "metadata": {},
     "output_type": "execute_result"
    }
   ],
   "source": [
    "topic_res = nmf_model.transform(dm)\n",
    "topic_res.argmax(axis=1)\n",
    "df1['Topic'] = topic_res.argmax(axis=1)\n",
    "df1.head(10)"
   ]
  },
  {
   "cell_type": "code",
   "execution_count": null,
   "id": "397eed29",
   "metadata": {},
   "outputs": [],
   "source": []
  },
  {
   "cell_type": "code",
   "execution_count": null,
   "id": "25ebafa7",
   "metadata": {},
   "outputs": [],
   "source": []
  }
 ],
 "metadata": {
  "kernelspec": {
   "display_name": "Python 3",
   "language": "python",
   "name": "python3"
  },
  "language_info": {
   "codemirror_mode": {
    "name": "ipython",
    "version": 3
   },
   "file_extension": ".py",
   "mimetype": "text/x-python",
   "name": "python",
   "nbconvert_exporter": "python",
   "pygments_lexer": "ipython3",
   "version": "3.8.8"
  }
 },
 "nbformat": 4,
 "nbformat_minor": 5
}
