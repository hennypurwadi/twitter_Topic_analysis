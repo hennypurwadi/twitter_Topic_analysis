{
 "cells": [
  {
   "cell_type": "code",
   "execution_count": 71,
   "id": "ee0bca88",
   "metadata": {},
   "outputs": [],
   "source": [
    "import numpy as np\n",
    "import pandas as pd\n",
    "import matplotlib.pyplot as plt\n",
    "import tweepy\n",
    "import snscrape.modules.twitter as sntwitter\n",
    "import csv\n",
    "import string\n",
    "from collections import Counter\n",
    "#nltk.download()\n",
    "import nltk\n",
    "from nltk.corpus import stopwords\n",
    "from nltk.sentiment.vader import SentimentIntensityAnalyzer\n",
    "from nltk.stem import WordNetLemmatizer\n",
    "from nltk.tokenize import word_tokenize\n",
    "import json\n",
    "import pandas as pd\n",
    "#from scipy.misc import imread\n",
    "from wordcloud import WordCloud, STOPWORDS, ImageColorGenerator\n",
    "import matplotlib as mpl\n",
    "import csv\n",
    "import matplotlib.pyplot as plt\n",
    "import operator\n",
    "from textblob import TextBlob\n",
    "from textblob import Word\n",
    "from textblob.sentiments import NaiveBayesAnalyzer\n",
    "import re"
   ]
  },
  {
   "cell_type": "markdown",
   "id": "e3c22f91",
   "metadata": {},
   "source": [
    "# Twitter Developer API"
   ]
  },
  {
   "cell_type": "code",
   "execution_count": 72,
   "id": "ea344d39",
   "metadata": {},
   "outputs": [],
   "source": [
    "#https://developer.twitter.com/en/portal/dashboard\n",
    "\n",
    "API_KEY = 'JYW7WsKbVLqOnhJZd4Kqfwtfk'\n",
    "API_SECRET = 'sPAUmw4DQhnb4aGmZD1B8On7Z8SJzegycAfQEM9wGL3GFwx4ni'\n",
    "ACCESS_TOKEN = '900524114976296960-vBIQ0CoAWvP4kfSctnB3ejV5bJpNMqw'\n",
    "ACCESS_TOKEN_SECRET = 'egd1tOSY0LYKB1fxjPTBCvPPtYMIhJmlAI6HZ7Z09Zv7j'\n",
    "\n",
    "a = tweepy.OAuthHandler(API_KEY, API_SECRET)\n",
    "a.set_access_token(ACCESS_TOKEN, ACCESS_TOKEN_SECRET)\n",
    "API = tweepy.API(a)"
   ]
  },
  {
   "cell_type": "markdown",
   "id": "ccc49ac2",
   "metadata": {},
   "source": [
    "# Twitter Trending Now"
   ]
  },
  {
   "cell_type": "code",
   "execution_count": 73,
   "id": "8dfa94ec",
   "metadata": {},
   "outputs": [
    {
     "name": "stdout",
     "output_type": "stream",
     "text": [
      "Trending now in London:\n",
      "['Ferrari', '#SocialistSunday', 'Chiquinho', 'Popcaan', 'ADHD', '#Raworth', 'TWAW', 'yvette cooper', 'beckham', 'Clark', 'Aguero', '#sunshine', 'Kante', '#ISTH2022', 'Nicki', 'The Conservative', 'Thailand', 'Section 28', 'Benzema', 'Michael Green', 'neves', 'Braverman', 'Net Zero', 'Truss', 'Kyrgios', 'Perez', 'ECHR', 'Russell', 'Leclerc', 'Hunt', 'Plan E', 'Andrew Castle', 'Esther McVey', 'Checo', 'Prince George', 'Penny Mordaunt', 'Paqueta', 'Jo Cox', 'Verstappen', 'Mick', 'Red Bull', 'Oscar Pistorius', 'Sue Barker', 'Little Britain', 'Haas', 'Jonnie', 'Lil Durk', 'Krygios', 'Alfie Hewett']\n"
     ]
    }
   ],
   "source": [
    "#https://www.woeids.com/ # WOEID of London\n",
    "woeid = 44418\n",
    "trendingnow = API.get_place_trends(id = woeid)\n",
    "print(\"Trending now in London:\")\n",
    " \n",
    "for trend in trendingnow:\n",
    "    trends = []\n",
    "    for tr in trend['trends']:\n",
    "        trends.append(tr['name'])\n",
    "print(trends)    "
   ]
  },
  {
   "cell_type": "markdown",
   "id": "cbadc080",
   "metadata": {},
   "source": [
    "# Collect Tweets around area"
   ]
  },
  {
   "cell_type": "code",
   "execution_count": 74,
   "id": "62fc2c74",
   "metadata": {},
   "outputs": [],
   "source": [
    "import snscrape.modules.twitter as sntwitter\n",
    "import csv\n",
    "\n",
    "maxTweets = 200\n",
    "#Create csv file, or append data into\n",
    "text = open('London_tweets.csv', 'a', newline='', encoding='utf8')\n",
    "\n",
    "#write tweets into csv file\n",
    "textWriter = csv.writer(text)\n",
    "textWriter.writerow(['id','date','username','tweet']) \n",
    "\n",
    "#Radius around 100 miles around the custom geo code\n",
    "for i,tweet in enumerate(sntwitter.TwitterSearchScraper('geocode:51.51147,-0.1220,100mi \\\n",
    "                                        + since:2022-07-01 until:2022-07-07 -filter:links -filter:replies').get_items()):\n",
    "    if i > maxTweets :\n",
    "            break\n",
    "\n",
    "    textWriter.writerow([tweet.id, tweet.date, tweet.user.username, tweet.content])   \n",
    "    \n",
    "text.close()"
   ]
  },
  {
   "cell_type": "markdown",
   "id": "db9b4af1",
   "metadata": {},
   "source": [
    "# Pre-processing, Cleaning"
   ]
  },
  {
   "cell_type": "code",
   "execution_count": 75,
   "id": "266f29d7",
   "metadata": {},
   "outputs": [],
   "source": [
    "text = open('London_tweets.csv', encoding='utf-8').read()"
   ]
  },
  {
   "cell_type": "code",
   "execution_count": 76,
   "id": "942cd4cc",
   "metadata": {},
   "outputs": [],
   "source": [
    "lower_case = text.lower()"
   ]
  },
  {
   "cell_type": "code",
   "execution_count": 77,
   "id": "920c928f",
   "metadata": {},
   "outputs": [],
   "source": [
    "cleaned_text = lower_case.translate(str.maketrans('', '', string.punctuation))"
   ]
  },
  {
   "cell_type": "code",
   "execution_count": 78,
   "id": "e58ba063",
   "metadata": {},
   "outputs": [],
   "source": [
    "# word_tokenize \n",
    "tokenized_words = word_tokenize(cleaned_text, \"english\")"
   ]
  },
  {
   "cell_type": "code",
   "execution_count": 79,
   "id": "7ac7892d",
   "metadata": {},
   "outputs": [],
   "source": [
    "# Removing Stop Words\n",
    "final_words = []\n",
    "for word in tokenized_words:\n",
    "    if word not in stopwords.words('english'):\n",
    "        final_words.append(word)"
   ]
  },
  {
   "cell_type": "code",
   "execution_count": 80,
   "id": "723a32d4",
   "metadata": {},
   "outputs": [],
   "source": [
    "# Lemmatization - From plural to single, and Base form of a word\n",
    "lemma_words = []\n",
    "for word in final_words:\n",
    "    word = WordNetLemmatizer().lemmatize(word)\n",
    "    lemma_words.append(word)      \n",
    "#print(lemma_words)"
   ]
  },
  {
   "cell_type": "markdown",
   "id": "3645910a",
   "metadata": {},
   "source": [
    "## 5 Most Popular hastags"
   ]
  },
  {
   "cell_type": "code",
   "execution_count": 81,
   "id": "2665ba09",
   "metadata": {},
   "outputs": [
    {
     "name": "stdout",
     "output_type": "stream",
     "text": [
      "['talkswithash', 'lagosswindler', 'canterburytales', 'lagosswindlers', 'rony', 'palmeiras', 'chelsea', 'dybala', 'milan', 'cfc', 'borisout', 'borisjohnsonmustresign', 'byeboris', 'borisjohnsonmustgo', 'borisjohnson', 'trump', 'boris', 'johnsonmustgo', 'lagosswindlers', 'lastlast', 'avax', 'mitb', 'wwesmackdown', 'nowplaying', 'tonicskaradio', 'firstplay', 'bbc6music', 'loveisland', 'timefortrump', 'topray', 'pbrisingstars', 'talkswithash', 'loveisland', 'nowplaying', 'chris', 'hortonpark', 'epsom']\n"
     ]
    }
   ],
   "source": [
    "hashtg = re.findall(r\"#(\\w+)\", lower_case)\n",
    "print(hashtg)"
   ]
  },
  {
   "cell_type": "code",
   "execution_count": 82,
   "id": "6b438761",
   "metadata": {},
   "outputs": [
    {
     "name": "stdout",
     "output_type": "stream",
     "text": [
      "['talkswithash', 'lagosswindler', 'canterburytales', 'lagosswindlers', 'rony', 'palmeiras', 'chelsea', 'dybala', 'milan', 'cfc', 'borisout', 'borisjohnsonmustresign', 'byeboris', 'borisjohnsonmustgo', 'borisjohnson', 'trump', 'boris', 'johnsonmustgo', 'lagosswindlers', 'lastlast', 'avax', 'mitb', 'wwesmackdown', 'nowplaying', 'tonicskaradio', 'firstplay', 'bbc6music', 'loveisland', 'timefortrump', 'topray', 'pbrisingstars', 'talkswithash', 'loveisland', 'nowplaying', 'chris', 'hortonpark', 'epsom']\n"
     ]
    }
   ],
   "source": [
    "# Lemmatization - From plural to single, and Base form of a word\n",
    "lemma_w = []\n",
    "for hashw in hashtg:\n",
    "    hashw = WordNetLemmatizer().lemmatize(hashw)\n",
    "    lemma_w.append(hashw)      \n",
    "print(lemma_w)"
   ]
  },
  {
   "cell_type": "markdown",
   "id": "58245782",
   "metadata": {},
   "source": [
    "## 5 Most Active Users"
   ]
  },
  {
   "cell_type": "code",
   "execution_count": 83,
   "id": "c55c532d",
   "metadata": {},
   "outputs": [
    {
     "data": {
      "text/html": [
       "<div>\n",
       "<style scoped>\n",
       "    .dataframe tbody tr th:only-of-type {\n",
       "        vertical-align: middle;\n",
       "    }\n",
       "\n",
       "    .dataframe tbody tr th {\n",
       "        vertical-align: top;\n",
       "    }\n",
       "\n",
       "    .dataframe thead th {\n",
       "        text-align: right;\n",
       "    }\n",
       "</style>\n",
       "<table border=\"1\" class=\"dataframe\">\n",
       "  <thead>\n",
       "    <tr style=\"text-align: right;\">\n",
       "      <th></th>\n",
       "      <th>username</th>\n",
       "      <th>tweet</th>\n",
       "    </tr>\n",
       "  </thead>\n",
       "  <tbody>\n",
       "    <tr>\n",
       "      <th>0</th>\n",
       "      <td>WokinghamWeatha</td>\n",
       "      <td>Temp: 18.5�C. Humidity 71% Rain today 0.0 mm. ...</td>\n",
       "    </tr>\n",
       "    <tr>\n",
       "      <th>1</th>\n",
       "      <td>gk3020</td>\n",
       "      <td>Sorry guys… you will have to drag me out of no...</td>\n",
       "    </tr>\n",
       "    <tr>\n",
       "      <th>2</th>\n",
       "      <td>_ACasso</td>\n",
       "      <td>My heart just skipped a beat seeing “The Lord ...</td>\n",
       "    </tr>\n",
       "    <tr>\n",
       "      <th>3</th>\n",
       "      <td>prowerrr_</td>\n",
       "      <td>Your mother could be LGBTQ\\nYour father could ...</td>\n",
       "    </tr>\n",
       "    <tr>\n",
       "      <th>4</th>\n",
       "      <td>mylewishamilton</td>\n",
       "      <td>EU GRITEI TANTO NESSE GOL</td>\n",
       "    </tr>\n",
       "  </tbody>\n",
       "</table>\n",
       "</div>"
      ],
      "text/plain": [
       "          username                                              tweet\n",
       "0  WokinghamWeatha  Temp: 18.5�C. Humidity 71% Rain today 0.0 mm. ...\n",
       "1           gk3020  Sorry guys… you will have to drag me out of no...\n",
       "2          _ACasso  My heart just skipped a beat seeing “The Lord ...\n",
       "3        prowerrr_  Your mother could be LGBTQ\\nYour father could ...\n",
       "4  mylewishamilton                          EU GRITEI TANTO NESSE GOL"
      ]
     },
     "execution_count": 83,
     "metadata": {},
     "output_type": "execute_result"
    }
   ],
   "source": [
    "df = pd.read_csv('London_tweets.csv')\n",
    "df = df.drop(columns = ['id','date'])\n",
    "df.head(5)"
   ]
  },
  {
   "cell_type": "code",
   "execution_count": 84,
   "id": "9ca6ec76",
   "metadata": {},
   "outputs": [
    {
     "data": {
      "text/plain": [
       "username    0\n",
       "tweet       0\n",
       "dtype: int64"
      ]
     },
     "execution_count": 84,
     "metadata": {},
     "output_type": "execute_result"
    }
   ],
   "source": [
    "df.isnull().sum()"
   ]
  },
  {
   "cell_type": "code",
   "execution_count": 85,
   "id": "9b2ce32c",
   "metadata": {},
   "outputs": [
    {
     "data": {
      "text/plain": [
       "201"
      ]
     },
     "execution_count": 85,
     "metadata": {},
     "output_type": "execute_result"
    }
   ],
   "source": [
    "len(df)"
   ]
  },
  {
   "cell_type": "code",
   "execution_count": 86,
   "id": "dcec7b6d",
   "metadata": {},
   "outputs": [
    {
     "data": {
      "text/plain": [
       "pgnyash           4\n",
       "Sep1914Antonio    4\n",
       "hiimsad0          3\n",
       "SpikellaxGrimm    3\n",
       "JajaPhD           2\n",
       "Name: username, dtype: int64"
      ]
     },
     "execution_count": 86,
     "metadata": {},
     "output_type": "execute_result"
    }
   ],
   "source": [
    "#df['username'].unique()\n",
    "userlist = df['username'].value_counts()\n",
    "most_active_users = userlist.head(5)\n",
    "most_active_users"
   ]
  },
  {
   "cell_type": "code",
   "execution_count": 87,
   "id": "82afd1d8",
   "metadata": {},
   "outputs": [
    {
     "data": {
      "image/png": "[encoded data removed]",
      "text/plain": [
       "<Figure size 360x360 with 1 Axes>"
      ]
     },
     "metadata": {},
     "output_type": "display_data"
    }
   ],
   "source": [
    "plot_users=most_active_users.plot.pie(autopct='%1.1f%%', figsize=(5, 5))\n",
    "plt.savefig(\"Piechart\",transparent=False, bbox_inches='tight',pad_inches=0.1)"
   ]
  },
  {
   "cell_type": "markdown",
   "id": "2b11d2ad",
   "metadata": {},
   "source": [
    "## Sentiment Analysis with nltk"
   ]
  },
  {
   "cell_type": "code",
   "execution_count": 88,
   "id": "5ecf8fc1",
   "metadata": {},
   "outputs": [
    {
     "name": "stderr",
     "output_type": "stream",
     "text": [
      "[nltk_data] Downloading package vader_lexicon to\n",
      "[nltk_data]     C:\\Users\\HENNY\\AppData\\Roaming\\nltk_data...\n",
      "[nltk_data]   Package vader_lexicon is already up-to-date!\n"
     ]
    }
   ],
   "source": [
    "import nltk\n",
    "nltk.download('vader_lexicon')\n",
    "from nltk.sentiment.vader import SentimentIntensityAnalyzer\n",
    "sid = SentimentIntensityAnalyzer()"
   ]
  },
  {
   "cell_type": "code",
   "execution_count": 89,
   "id": "37bc7b4d",
   "metadata": {},
   "outputs": [
    {
     "data": {
      "text/html": [
       "<div>\n",
       "<style scoped>\n",
       "    .dataframe tbody tr th:only-of-type {\n",
       "        vertical-align: middle;\n",
       "    }\n",
       "\n",
       "    .dataframe tbody tr th {\n",
       "        vertical-align: top;\n",
       "    }\n",
       "\n",
       "    .dataframe thead th {\n",
       "        text-align: right;\n",
       "    }\n",
       "</style>\n",
       "<table border=\"1\" class=\"dataframe\">\n",
       "  <thead>\n",
       "    <tr style=\"text-align: right;\">\n",
       "      <th></th>\n",
       "      <th>tweet</th>\n",
       "    </tr>\n",
       "  </thead>\n",
       "  <tbody>\n",
       "    <tr>\n",
       "      <th>0</th>\n",
       "      <td>Temp: 18.5�C. Humidity 71% Rain today 0.0 mm. ...</td>\n",
       "    </tr>\n",
       "    <tr>\n",
       "      <th>1</th>\n",
       "      <td>Sorry guys… you will have to drag me out of no...</td>\n",
       "    </tr>\n",
       "    <tr>\n",
       "      <th>2</th>\n",
       "      <td>My heart just skipped a beat seeing “The Lord ...</td>\n",
       "    </tr>\n",
       "    <tr>\n",
       "      <th>3</th>\n",
       "      <td>Your mother could be LGBTQ\\nYour father could ...</td>\n",
       "    </tr>\n",
       "    <tr>\n",
       "      <th>4</th>\n",
       "      <td>EU GRITEI TANTO NESSE GOL</td>\n",
       "    </tr>\n",
       "  </tbody>\n",
       "</table>\n",
       "</div>"
      ],
      "text/plain": [
       "                                               tweet\n",
       "0  Temp: 18.5�C. Humidity 71% Rain today 0.0 mm. ...\n",
       "1  Sorry guys… you will have to drag me out of no...\n",
       "2  My heart just skipped a beat seeing “The Lord ...\n",
       "3  Your mother could be LGBTQ\\nYour father could ...\n",
       "4                          EU GRITEI TANTO NESSE GOL"
      ]
     },
     "execution_count": 89,
     "metadata": {},
     "output_type": "execute_result"
    }
   ],
   "source": [
    "df1 = df.drop(columns = ['username'])\n",
    "df1.head(5)"
   ]
  },
  {
   "cell_type": "code",
   "execution_count": 90,
   "id": "128ce2b3",
   "metadata": {},
   "outputs": [
    {
     "data": {
      "text/plain": [
       "{'neg': 0.074, 'neu': 0.926, 'pos': 0.0, 'compound': -0.1531}"
      ]
     },
     "execution_count": 90,
     "metadata": {},
     "output_type": "execute_result"
    }
   ],
   "source": [
    "#df1.value_counts()\n",
    "sid.polarity_scores(df1.loc[0]['tweet'])"
   ]
  },
  {
   "cell_type": "code",
   "execution_count": 91,
   "id": "48cc53ae",
   "metadata": {},
   "outputs": [],
   "source": [
    "df1.dropna(inplace=True)\n",
    "blanks = []  \n",
    "for i,lb,rv in df.itertuples():  \n",
    "    if type(rv)==str:            \n",
    "        if rv.isspace():         \n",
    "            blanks.append(i)  \n",
    "df1.drop(blanks, inplace=True)"
   ]
  },
  {
   "cell_type": "code",
   "execution_count": 106,
   "id": "a24794e4",
   "metadata": {},
   "outputs": [
    {
     "data": {
      "text/html": [
       "<div>\n",
       "<style scoped>\n",
       "    .dataframe tbody tr th:only-of-type {\n",
       "        vertical-align: middle;\n",
       "    }\n",
       "\n",
       "    .dataframe tbody tr th {\n",
       "        vertical-align: top;\n",
       "    }\n",
       "\n",
       "    .dataframe thead th {\n",
       "        text-align: right;\n",
       "    }\n",
       "</style>\n",
       "<table border=\"1\" class=\"dataframe\">\n",
       "  <thead>\n",
       "    <tr style=\"text-align: right;\">\n",
       "      <th></th>\n",
       "      <th>tweet</th>\n",
       "      <th>score</th>\n",
       "      <th>compound</th>\n",
       "      <th>sentiment</th>\n",
       "    </tr>\n",
       "  </thead>\n",
       "  <tbody>\n",
       "    <tr>\n",
       "      <th>0</th>\n",
       "      <td>Temp: 18.5�C. Humidity 71% Rain today 0.0 mm. ...</td>\n",
       "      <td>{'neg': 0.074, 'neu': 0.926, 'pos': 0.0, 'comp...</td>\n",
       "      <td>-0.1531</td>\n",
       "      <td>negative</td>\n",
       "    </tr>\n",
       "    <tr>\n",
       "      <th>1</th>\n",
       "      <td>Sorry guys… you will have to drag me out of no...</td>\n",
       "      <td>{'neg': 0.213, 'neu': 0.787, 'pos': 0.0, 'comp...</td>\n",
       "      <td>-0.5267</td>\n",
       "      <td>negative</td>\n",
       "    </tr>\n",
       "    <tr>\n",
       "      <th>2</th>\n",
       "      <td>My heart just skipped a beat seeing “The Lord ...</td>\n",
       "      <td>{'neg': 0.0, 'neu': 0.877, 'pos': 0.123, 'comp...</td>\n",
       "      <td>0.5423</td>\n",
       "      <td>positive</td>\n",
       "    </tr>\n",
       "    <tr>\n",
       "      <th>3</th>\n",
       "      <td>Your mother could be LGBTQ\\nYour father could ...</td>\n",
       "      <td>{'neg': 0.0, 'neu': 0.823, 'pos': 0.177, 'comp...</td>\n",
       "      <td>0.4215</td>\n",
       "      <td>positive</td>\n",
       "    </tr>\n",
       "    <tr>\n",
       "      <th>4</th>\n",
       "      <td>EU GRITEI TANTO NESSE GOL</td>\n",
       "      <td>{'neg': 0.0, 'neu': 1.0, 'pos': 0.0, 'compound...</td>\n",
       "      <td>0.0000</td>\n",
       "      <td>positive</td>\n",
       "    </tr>\n",
       "    <tr>\n",
       "      <th>5</th>\n",
       "      <td>Castillo is hands down one of the funniest peo...</td>\n",
       "      <td>{'neg': 0.0, 'neu': 0.783, 'pos': 0.217, 'comp...</td>\n",
       "      <td>0.5574</td>\n",
       "      <td>positive</td>\n",
       "    </tr>\n",
       "    <tr>\n",
       "      <th>6</th>\n",
       "      <td>desayunando ya por fin 🙏</td>\n",
       "      <td>{'neg': 0.0, 'neu': 1.0, 'pos': 0.0, 'compound...</td>\n",
       "      <td>0.0000</td>\n",
       "      <td>positive</td>\n",
       "    </tr>\n",
       "    <tr>\n",
       "      <th>7</th>\n",
       "      <td>tell me why kyle is tutting me in his sleep ff...</td>\n",
       "      <td>{'neg': 0.318, 'neu': 0.682, 'pos': 0.0, 'comp...</td>\n",
       "      <td>-0.7906</td>\n",
       "      <td>negative</td>\n",
       "    </tr>\n",
       "    <tr>\n",
       "      <th>8</th>\n",
       "      <td>I could watch cooking shows for the rest of my...</td>\n",
       "      <td>{'neg': 0.0, 'neu': 1.0, 'pos': 0.0, 'compound...</td>\n",
       "      <td>0.0000</td>\n",
       "      <td>positive</td>\n",
       "    </tr>\n",
       "    <tr>\n",
       "      <th>9</th>\n",
       "      <td>Thinking of doing a live listening party for b...</td>\n",
       "      <td>{'neg': 0.0, 'neu': 0.748, 'pos': 0.252, 'comp...</td>\n",
       "      <td>0.4019</td>\n",
       "      <td>positive</td>\n",
       "    </tr>\n",
       "  </tbody>\n",
       "</table>\n",
       "</div>"
      ],
      "text/plain": [
       "                                               tweet  \\\n",
       "0  Temp: 18.5�C. Humidity 71% Rain today 0.0 mm. ...   \n",
       "1  Sorry guys… you will have to drag me out of no...   \n",
       "2  My heart just skipped a beat seeing “The Lord ...   \n",
       "3  Your mother could be LGBTQ\\nYour father could ...   \n",
       "4                          EU GRITEI TANTO NESSE GOL   \n",
       "5  Castillo is hands down one of the funniest peo...   \n",
       "6                           desayunando ya por fin 🙏   \n",
       "7  tell me why kyle is tutting me in his sleep ff...   \n",
       "8  I could watch cooking shows for the rest of my...   \n",
       "9  Thinking of doing a live listening party for b...   \n",
       "\n",
       "                                               score  compound sentiment  \n",
       "0  {'neg': 0.074, 'neu': 0.926, 'pos': 0.0, 'comp...   -0.1531  negative  \n",
       "1  {'neg': 0.213, 'neu': 0.787, 'pos': 0.0, 'comp...   -0.5267  negative  \n",
       "2  {'neg': 0.0, 'neu': 0.877, 'pos': 0.123, 'comp...    0.5423  positive  \n",
       "3  {'neg': 0.0, 'neu': 0.823, 'pos': 0.177, 'comp...    0.4215  positive  \n",
       "4  {'neg': 0.0, 'neu': 1.0, 'pos': 0.0, 'compound...    0.0000  positive  \n",
       "5  {'neg': 0.0, 'neu': 0.783, 'pos': 0.217, 'comp...    0.5574  positive  \n",
       "6  {'neg': 0.0, 'neu': 1.0, 'pos': 0.0, 'compound...    0.0000  positive  \n",
       "7  {'neg': 0.318, 'neu': 0.682, 'pos': 0.0, 'comp...   -0.7906  negative  \n",
       "8  {'neg': 0.0, 'neu': 1.0, 'pos': 0.0, 'compound...    0.0000  positive  \n",
       "9  {'neg': 0.0, 'neu': 0.748, 'pos': 0.252, 'comp...    0.4019  positive  "
      ]
     },
     "execution_count": 106,
     "metadata": {},
     "output_type": "execute_result"
    }
   ],
   "source": [
    "#df1['tweet'].value_counts()\n",
    "df1['score'] = df1['tweet'].apply(lambda review: sid.polarity_scores(review))\n",
    "df1['compound']  = df1['score'].apply(lambda score_dict: score_dict['compound'])\n",
    "df1['sentiment'] = df1['compound'].apply(lambda c: 'positive' if c >=0 else 'negative')\n",
    "df1.head(10)"
   ]
  },
  {
   "cell_type": "code",
   "execution_count": 104,
   "id": "86deb77d",
   "metadata": {},
   "outputs": [
    {
     "data": {
      "text/plain": [
       "'Sorry guys… you will have to drag me out of no 10.its too cosy and comfy in here. My skin is Too thick .'"
      ]
     },
     "execution_count": 104,
     "metadata": {},
     "output_type": "execute_result"
    }
   ],
   "source": [
    "df1['tweet'][1]"
   ]
  },
  {
   "cell_type": "code",
   "execution_count": 107,
   "id": "e74a1759",
   "metadata": {},
   "outputs": [
    {
     "data": {
      "text/plain": [
       "'Thinking of doing a live listening party for burnas album'"
      ]
     },
     "execution_count": 107,
     "metadata": {},
     "output_type": "execute_result"
    }
   ],
   "source": [
    "df1['tweet'][9]"
   ]
  },
  {
   "cell_type": "markdown",
   "id": "a73257b7",
   "metadata": {},
   "source": [
    "# Topic extraction with LDA (Latent Dirichlet Allocation)"
   ]
  },
  {
   "cell_type": "code",
   "execution_count": 93,
   "id": "c499dece",
   "metadata": {},
   "outputs": [
    {
     "data": {
      "text/plain": [
       "<201x1336 sparse matrix of type '<class 'numpy.int64'>'\n",
       "\twith 1677 stored elements in Compressed Sparse Row format>"
      ]
     },
     "execution_count": 93,
     "metadata": {},
     "output_type": "execute_result"
    }
   ],
   "source": [
    "import pandas as pd\n",
    "from sklearn.feature_extraction.text import CountVectorizer\n",
    "cv = CountVectorizer(max_df=0.95, min_df=1, stop_words='english')\n",
    "dtm = cv.fit_transform(df1['tweet'])\n",
    "dtm"
   ]
  },
  {
   "cell_type": "code",
   "execution_count": 94,
   "id": "ab02ba07",
   "metadata": {},
   "outputs": [
    {
     "data": {
      "text/plain": [
       "LatentDirichletAllocation(n_components=5, random_state=42)"
      ]
     },
     "execution_count": 94,
     "metadata": {},
     "output_type": "execute_result"
    }
   ],
   "source": [
    "#LDA\n",
    "from sklearn.decomposition import LatentDirichletAllocation\n",
    "LDA = LatentDirichletAllocation(n_components=5,random_state=42)\n",
    "LDA.fit(dtm)"
   ]
  },
  {
   "cell_type": "code",
   "execution_count": 95,
   "id": "0cf03831",
   "metadata": {},
   "outputs": [
    {
     "data": {
      "text/plain": [
       "1336"
      ]
     },
     "execution_count": 95,
     "metadata": {},
     "output_type": "execute_result"
    }
   ],
   "source": [
    "len(cv.get_feature_names())"
   ]
  },
  {
   "cell_type": "code",
   "execution_count": 96,
   "id": "880b5ef5",
   "metadata": {},
   "outputs": [
    {
     "name": "stdout",
     "output_type": "stream",
     "text": [
      "07\n",
      "10\n",
      "1023\n",
      "1023\n",
      "1023\n"
     ]
    }
   ],
   "source": [
    "import random\n",
    "for i in range(5):\n",
    "    random_word_id = random.randint(0,2)\n",
    "    print(cv.get_feature_names()[random_word_id])"
   ]
  },
  {
   "cell_type": "code",
   "execution_count": 97,
   "id": "2f65119e",
   "metadata": {},
   "outputs": [
    {
     "name": "stdout",
     "output_type": "stream",
     "text": [
      "1023\n",
      "1023\n",
      "07\n",
      "1023\n",
      "1023\n",
      "07\n",
      "07\n",
      "07\n",
      "1023\n",
      "07\n"
     ]
    }
   ],
   "source": [
    "for i in range(10):\n",
    "    random_word_id = random.randint(0,2)\n",
    "    print(cv.get_feature_names()[random_word_id])"
   ]
  },
  {
   "cell_type": "code",
   "execution_count": 98,
   "id": "2874e095",
   "metadata": {},
   "outputs": [
    {
     "data": {
      "text/plain": [
       "array([[0.20000358, 1.19688472, 0.20000158, ..., 0.20001264, 0.20000552,\n",
       "        0.20000552],\n",
       "       [0.20000387, 0.20001233, 0.20000172, ..., 0.20001367, 1.19997637,\n",
       "        1.19997637],\n",
       "       [2.19998461, 0.20001223, 0.20000176, ..., 0.20001353, 0.20000591,\n",
       "        0.20000591],\n",
       "       [0.20000356, 2.20297482, 1.19999297, ..., 1.19994474, 0.20000547,\n",
       "        0.20000547],\n",
       "       [0.20000437, 2.20011589, 0.20000196, ..., 0.20001542, 0.20000673,\n",
       "        0.20000673]])"
      ]
     },
     "execution_count": 98,
     "metadata": {},
     "output_type": "execute_result"
    }
   ],
   "source": [
    "LDA.components_"
   ]
  },
  {
   "cell_type": "code",
   "execution_count": 48,
   "id": "5120dbaf",
   "metadata": {},
   "outputs": [
    {
     "data": {
      "text/plain": [
       "1336"
      ]
     },
     "execution_count": 48,
     "metadata": {},
     "output_type": "execute_result"
    }
   ],
   "source": [
    "len(LDA.components_[0])"
   ]
  },
  {
   "cell_type": "code",
   "execution_count": 49,
   "id": "7caddbb8",
   "metadata": {},
   "outputs": [],
   "source": [
    "single_topic = LDA.components_[0]"
   ]
  },
  {
   "cell_type": "code",
   "execution_count": 50,
   "id": "9addaee3",
   "metadata": {},
   "outputs": [
    {
     "data": {
      "text/plain": [
       "array([1283, 1243, 1314, ..., 1068,  605, 1025], dtype=int64)"
      ]
     },
     "execution_count": 50,
     "metadata": {},
     "output_type": "execute_result"
    }
   ],
   "source": [
    "single_topic.argsort()"
   ]
  },
  {
   "cell_type": "code",
   "execution_count": 51,
   "id": "003d0a40",
   "metadata": {},
   "outputs": [
    {
     "data": {
      "text/plain": [
       "0.20000551605873115"
      ]
     },
     "execution_count": 51,
     "metadata": {},
     "output_type": "execute_result"
    }
   ],
   "source": [
    "single_topic[183]"
   ]
  },
  {
   "cell_type": "code",
   "execution_count": 52,
   "id": "5be4a00f",
   "metadata": {},
   "outputs": [
    {
     "data": {
      "text/plain": [
       "array([ 640,  631, 1068,  605, 1025], dtype=int64)"
      ]
     },
     "execution_count": 52,
     "metadata": {},
     "output_type": "execute_result"
    }
   ],
   "source": [
    "# Top 5 words for this topic:\n",
    "single_topic.argsort()[-5:]"
   ]
  },
  {
   "cell_type": "code",
   "execution_count": 53,
   "id": "73e765d9",
   "metadata": {},
   "outputs": [],
   "source": [
    "top_word_indices = single_topic.argsort()[-1:]"
   ]
  },
  {
   "cell_type": "code",
   "execution_count": 54,
   "id": "bf8ea664",
   "metadata": {},
   "outputs": [
    {
     "name": "stdout",
     "output_type": "stream",
     "text": [
      "time\n"
     ]
    }
   ],
   "source": [
    "for index in top_word_indices:\n",
    "    print(cv.get_feature_names()[index])"
   ]
  },
  {
   "cell_type": "code",
   "execution_count": 55,
   "id": "1c89431a",
   "metadata": {},
   "outputs": [
    {
     "name": "stdout",
     "output_type": "stream",
     "text": [
      "5 Most common discussed topic #0\n",
      "['make', 'love', 'um', 'life', 'time']\n",
      "\n",
      "\n",
      "5 Most common discussed topic #1\n",
      "['don', 've', 'going', 'rony', 'pop']\n",
      "\n",
      "\n",
      "5 Most common discussed topic #2\n",
      "['need', 'نمشے', 'bong', 'like', 'h70']\n",
      "\n",
      "\n",
      "5 Most common discussed topic #3\n",
      "['rústico', 'w77', 'jesus', 'rony', 'que']\n",
      "\n",
      "\n",
      "5 Most common discussed topic #4\n",
      "['w77', 'city', 'meu', 'wordle', '383']\n",
      "\n",
      "\n"
     ]
    }
   ],
   "source": [
    "for index,topic in enumerate(LDA.components_):\n",
    "    print(f'5 Most common discussed topic #{index}')\n",
    "    print([cv.get_feature_names()[i] for i in topic.argsort()[-5:]])\n",
    "    print('\\n')"
   ]
  },
  {
   "cell_type": "code",
   "execution_count": 56,
   "id": "9ba71fd3",
   "metadata": {},
   "outputs": [
    {
     "data": {
      "text/plain": [
       "<201x1336 sparse matrix of type '<class 'numpy.int64'>'\n",
       "\twith 1677 stored elements in Compressed Sparse Row format>"
      ]
     },
     "execution_count": 56,
     "metadata": {},
     "output_type": "execute_result"
    }
   ],
   "source": [
    "dtm"
   ]
  },
  {
   "cell_type": "code",
   "execution_count": 57,
   "id": "786f7478",
   "metadata": {},
   "outputs": [
    {
     "data": {
      "text/plain": [
       "(201, 1336)"
      ]
     },
     "execution_count": 57,
     "metadata": {},
     "output_type": "execute_result"
    }
   ],
   "source": [
    "dtm.shape"
   ]
  },
  {
   "cell_type": "code",
   "execution_count": 58,
   "id": "e0974822",
   "metadata": {},
   "outputs": [],
   "source": [
    "topic_results = LDA.transform(dtm)"
   ]
  },
  {
   "cell_type": "code",
   "execution_count": 59,
   "id": "3c3d82a5",
   "metadata": {},
   "outputs": [
    {
     "data": {
      "text/plain": [
       "(201, 5)"
      ]
     },
     "execution_count": 59,
     "metadata": {},
     "output_type": "execute_result"
    }
   ],
   "source": [
    "topic_results.shape"
   ]
  },
  {
   "cell_type": "code",
   "execution_count": 60,
   "id": "0e731994",
   "metadata": {},
   "outputs": [
    {
     "data": {
      "text/plain": [
       "array([0.01058001, 0.01055861, 0.95773306, 0.01060006, 0.01052826])"
      ]
     },
     "execution_count": 60,
     "metadata": {},
     "output_type": "execute_result"
    }
   ],
   "source": [
    "topic_results[0]"
   ]
  },
  {
   "cell_type": "code",
   "execution_count": 61,
   "id": "7d718bf4",
   "metadata": {},
   "outputs": [
    {
     "data": {
      "text/plain": [
       "array([0.01, 0.01, 0.96, 0.01, 0.01])"
      ]
     },
     "execution_count": 61,
     "metadata": {},
     "output_type": "execute_result"
    }
   ],
   "source": [
    "topic_results[0].round(2)"
   ]
  },
  {
   "cell_type": "code",
   "execution_count": 62,
   "id": "aaf56c35",
   "metadata": {},
   "outputs": [
    {
     "data": {
      "text/plain": [
       "2"
      ]
     },
     "execution_count": 62,
     "metadata": {},
     "output_type": "execute_result"
    }
   ],
   "source": [
    "topic_results[0].argmax()"
   ]
  },
  {
   "cell_type": "code",
   "execution_count": 63,
   "id": "288b7ced",
   "metadata": {},
   "outputs": [
    {
     "data": {
      "text/html": [
       "<div>\n",
       "<style scoped>\n",
       "    .dataframe tbody tr th:only-of-type {\n",
       "        vertical-align: middle;\n",
       "    }\n",
       "\n",
       "    .dataframe tbody tr th {\n",
       "        vertical-align: top;\n",
       "    }\n",
       "\n",
       "    .dataframe thead th {\n",
       "        text-align: right;\n",
       "    }\n",
       "</style>\n",
       "<table border=\"1\" class=\"dataframe\">\n",
       "  <thead>\n",
       "    <tr style=\"text-align: right;\">\n",
       "      <th></th>\n",
       "      <th>tweet</th>\n",
       "      <th>score</th>\n",
       "      <th>compound</th>\n",
       "      <th>sentiment</th>\n",
       "    </tr>\n",
       "  </thead>\n",
       "  <tbody>\n",
       "    <tr>\n",
       "      <th>0</th>\n",
       "      <td>Temp: 18.5�C. Humidity 71% Rain today 0.0 mm. ...</td>\n",
       "      <td>{'neg': 0.074, 'neu': 0.926, 'pos': 0.0, 'comp...</td>\n",
       "      <td>-0.1531</td>\n",
       "      <td>negative</td>\n",
       "    </tr>\n",
       "    <tr>\n",
       "      <th>1</th>\n",
       "      <td>Sorry guys… you will have to drag me out of no...</td>\n",
       "      <td>{'neg': 0.213, 'neu': 0.787, 'pos': 0.0, 'comp...</td>\n",
       "      <td>-0.5267</td>\n",
       "      <td>negative</td>\n",
       "    </tr>\n",
       "    <tr>\n",
       "      <th>2</th>\n",
       "      <td>My heart just skipped a beat seeing “The Lord ...</td>\n",
       "      <td>{'neg': 0.0, 'neu': 0.877, 'pos': 0.123, 'comp...</td>\n",
       "      <td>0.5423</td>\n",
       "      <td>positive</td>\n",
       "    </tr>\n",
       "    <tr>\n",
       "      <th>3</th>\n",
       "      <td>Your mother could be LGBTQ\\nYour father could ...</td>\n",
       "      <td>{'neg': 0.0, 'neu': 0.823, 'pos': 0.177, 'comp...</td>\n",
       "      <td>0.4215</td>\n",
       "      <td>positive</td>\n",
       "    </tr>\n",
       "    <tr>\n",
       "      <th>4</th>\n",
       "      <td>EU GRITEI TANTO NESSE GOL</td>\n",
       "      <td>{'neg': 0.0, 'neu': 1.0, 'pos': 0.0, 'compound...</td>\n",
       "      <td>0.0000</td>\n",
       "      <td>positive</td>\n",
       "    </tr>\n",
       "  </tbody>\n",
       "</table>\n",
       "</div>"
      ],
      "text/plain": [
       "                                               tweet  \\\n",
       "0  Temp: 18.5�C. Humidity 71% Rain today 0.0 mm. ...   \n",
       "1  Sorry guys… you will have to drag me out of no...   \n",
       "2  My heart just skipped a beat seeing “The Lord ...   \n",
       "3  Your mother could be LGBTQ\\nYour father could ...   \n",
       "4                          EU GRITEI TANTO NESSE GOL   \n",
       "\n",
       "                                               score  compound sentiment  \n",
       "0  {'neg': 0.074, 'neu': 0.926, 'pos': 0.0, 'comp...   -0.1531  negative  \n",
       "1  {'neg': 0.213, 'neu': 0.787, 'pos': 0.0, 'comp...   -0.5267  negative  \n",
       "2  {'neg': 0.0, 'neu': 0.877, 'pos': 0.123, 'comp...    0.5423  positive  \n",
       "3  {'neg': 0.0, 'neu': 0.823, 'pos': 0.177, 'comp...    0.4215  positive  \n",
       "4  {'neg': 0.0, 'neu': 1.0, 'pos': 0.0, 'compound...    0.0000  positive  "
      ]
     },
     "execution_count": 63,
     "metadata": {},
     "output_type": "execute_result"
    }
   ],
   "source": [
    "df1.head()"
   ]
  },
  {
   "cell_type": "code",
   "execution_count": 64,
   "id": "071de75b",
   "metadata": {},
   "outputs": [
    {
     "data": {
      "text/plain": [
       "array([2, 0, 2, 3, 3, 1, 3, 3, 0, 2, 2, 3, 1, 4, 3, 2, 0, 0, 0, 4, 4, 4,\n",
       "       2, 0, 0, 3, 4, 3, 2, 0, 3, 1, 0, 3, 3, 1, 3, 3, 2, 2, 1, 3, 3, 2,\n",
       "       2, 0, 3, 4, 1, 0, 4, 1, 3, 3, 2, 3, 4, 3, 3, 4, 0, 2, 3, 3, 4, 3,\n",
       "       3, 1, 2, 4, 2, 1, 2, 1, 1, 3, 0, 4, 3, 1, 1, 4, 0, 4, 0, 4, 4, 4,\n",
       "       3, 0, 4, 2, 1, 1, 1, 2, 0, 3, 3, 4, 4, 1, 1, 0, 0, 0, 0, 0, 1, 2,\n",
       "       0, 2, 3, 4, 0, 0, 4, 4, 2, 1, 0, 1, 2, 2, 0, 2, 3, 1, 2, 4, 1, 1,\n",
       "       0, 1, 4, 3, 3, 2, 0, 0, 1, 1, 0, 0, 0, 0, 4, 0, 4, 2, 2, 4, 2, 1,\n",
       "       2, 0, 0, 1, 0, 0, 2, 1, 1, 2, 1, 0, 1, 2, 3, 1, 3, 3, 4, 0, 2, 1,\n",
       "       4, 4, 0, 3, 0, 3, 0, 3, 3, 1, 4, 3, 2, 0, 0, 2, 3, 2, 1, 1, 4, 4,\n",
       "       4, 1, 1], dtype=int64)"
      ]
     },
     "execution_count": 64,
     "metadata": {},
     "output_type": "execute_result"
    }
   ],
   "source": [
    "topic_results.argmax(axis=1)"
   ]
  },
  {
   "cell_type": "code",
   "execution_count": 65,
   "id": "6f451d03",
   "metadata": {},
   "outputs": [],
   "source": [
    "df1['Topic'] = topic_results.argmax(axis=1)"
   ]
  },
  {
   "cell_type": "code",
   "execution_count": 66,
   "id": "58505de7",
   "metadata": {},
   "outputs": [
    {
     "data": {
      "text/html": [
       "<div>\n",
       "<style scoped>\n",
       "    .dataframe tbody tr th:only-of-type {\n",
       "        vertical-align: middle;\n",
       "    }\n",
       "\n",
       "    .dataframe tbody tr th {\n",
       "        vertical-align: top;\n",
       "    }\n",
       "\n",
       "    .dataframe thead th {\n",
       "        text-align: right;\n",
       "    }\n",
       "</style>\n",
       "<table border=\"1\" class=\"dataframe\">\n",
       "  <thead>\n",
       "    <tr style=\"text-align: right;\">\n",
       "      <th></th>\n",
       "      <th>tweet</th>\n",
       "      <th>score</th>\n",
       "      <th>compound</th>\n",
       "      <th>sentiment</th>\n",
       "      <th>Topic</th>\n",
       "    </tr>\n",
       "  </thead>\n",
       "  <tbody>\n",
       "    <tr>\n",
       "      <th>0</th>\n",
       "      <td>Temp: 18.5�C. Humidity 71% Rain today 0.0 mm. ...</td>\n",
       "      <td>{'neg': 0.074, 'neu': 0.926, 'pos': 0.0, 'comp...</td>\n",
       "      <td>-0.1531</td>\n",
       "      <td>negative</td>\n",
       "      <td>2</td>\n",
       "    </tr>\n",
       "    <tr>\n",
       "      <th>1</th>\n",
       "      <td>Sorry guys… you will have to drag me out of no...</td>\n",
       "      <td>{'neg': 0.213, 'neu': 0.787, 'pos': 0.0, 'comp...</td>\n",
       "      <td>-0.5267</td>\n",
       "      <td>negative</td>\n",
       "      <td>0</td>\n",
       "    </tr>\n",
       "    <tr>\n",
       "      <th>2</th>\n",
       "      <td>My heart just skipped a beat seeing “The Lord ...</td>\n",
       "      <td>{'neg': 0.0, 'neu': 0.877, 'pos': 0.123, 'comp...</td>\n",
       "      <td>0.5423</td>\n",
       "      <td>positive</td>\n",
       "      <td>2</td>\n",
       "    </tr>\n",
       "    <tr>\n",
       "      <th>3</th>\n",
       "      <td>Your mother could be LGBTQ\\nYour father could ...</td>\n",
       "      <td>{'neg': 0.0, 'neu': 0.823, 'pos': 0.177, 'comp...</td>\n",
       "      <td>0.4215</td>\n",
       "      <td>positive</td>\n",
       "      <td>3</td>\n",
       "    </tr>\n",
       "    <tr>\n",
       "      <th>4</th>\n",
       "      <td>EU GRITEI TANTO NESSE GOL</td>\n",
       "      <td>{'neg': 0.0, 'neu': 1.0, 'pos': 0.0, 'compound...</td>\n",
       "      <td>0.0000</td>\n",
       "      <td>positive</td>\n",
       "      <td>3</td>\n",
       "    </tr>\n",
       "  </tbody>\n",
       "</table>\n",
       "</div>"
      ],
      "text/plain": [
       "                                               tweet  \\\n",
       "0  Temp: 18.5�C. Humidity 71% Rain today 0.0 mm. ...   \n",
       "1  Sorry guys… you will have to drag me out of no...   \n",
       "2  My heart just skipped a beat seeing “The Lord ...   \n",
       "3  Your mother could be LGBTQ\\nYour father could ...   \n",
       "4                          EU GRITEI TANTO NESSE GOL   \n",
       "\n",
       "                                               score  compound sentiment  \\\n",
       "0  {'neg': 0.074, 'neu': 0.926, 'pos': 0.0, 'comp...   -0.1531  negative   \n",
       "1  {'neg': 0.213, 'neu': 0.787, 'pos': 0.0, 'comp...   -0.5267  negative   \n",
       "2  {'neg': 0.0, 'neu': 0.877, 'pos': 0.123, 'comp...    0.5423  positive   \n",
       "3  {'neg': 0.0, 'neu': 0.823, 'pos': 0.177, 'comp...    0.4215  positive   \n",
       "4  {'neg': 0.0, 'neu': 1.0, 'pos': 0.0, 'compound...    0.0000  positive   \n",
       "\n",
       "   Topic  \n",
       "0      2  \n",
       "1      0  \n",
       "2      2  \n",
       "3      3  \n",
       "4      3  "
      ]
     },
     "execution_count": 66,
     "metadata": {},
     "output_type": "execute_result"
    }
   ],
   "source": [
    "df1.head(5)"
   ]
  },
  {
   "cell_type": "markdown",
   "id": "ab5a3090",
   "metadata": {},
   "source": [
    "# Topic Modeling using NMF (Non-Negative Matric Factorization)"
   ]
  },
  {
   "cell_type": "code",
   "execution_count": 67,
   "id": "deeeb6ca",
   "metadata": {},
   "outputs": [
    {
     "data": {
      "text/plain": [
       "<201x1336 sparse matrix of type '<class 'numpy.float64'>'\n",
       "\twith 1677 stored elements in Compressed Sparse Row format>"
      ]
     },
     "execution_count": 67,
     "metadata": {},
     "output_type": "execute_result"
    }
   ],
   "source": [
    "from sklearn.feature_extraction.text import TfidfVectorizer\n",
    "tfidf = TfidfVectorizer(max_df=0.95, min_df=1, stop_words='english')\n",
    "dtm = tfidf.fit_transform(df1['tweet'])\n",
    "dtm"
   ]
  },
  {
   "cell_type": "code",
   "execution_count": 68,
   "id": "02b3041c",
   "metadata": {},
   "outputs": [
    {
     "data": {
      "text/plain": [
       "NMF(n_components=5, random_state=42)"
      ]
     },
     "execution_count": 68,
     "metadata": {},
     "output_type": "execute_result"
    }
   ],
   "source": [
    "from sklearn.decomposition import NMF\n",
    "nmf_model = NMF(n_components=5,random_state=42)\n",
    "nmf_model.fit(dtm)"
   ]
  },
  {
   "cell_type": "code",
   "execution_count": 69,
   "id": "a7a039bd",
   "metadata": {},
   "outputs": [
    {
     "name": "stdout",
     "output_type": "stream",
     "text": [
      "5 Most common discussed topic #0\n",
      "['bong', 'males', 'ma', 'wordle', '383']\n",
      "\n",
      "\n",
      "5 Most common discussed topic #1\n",
      "['pariu', 'jesus', 'golaço', 'rony', 'que']\n",
      "\n",
      "\n",
      "5 Most common discussed topic #2\n",
      "['discuss', 'lazy', 'results', 'نمشے', 'w77']\n",
      "\n",
      "\n",
      "5 Most common discussed topic #3\n",
      "['tá', 'deussss', 'rony', 'deus', 'meu']\n",
      "\n",
      "\n",
      "5 Most common discussed topic #4\n",
      "['component', 'live', 'truth', 'نمشے', 'h70']\n",
      "\n",
      "\n"
     ]
    }
   ],
   "source": [
    "for index,topic in enumerate(nmf_model.components_):\n",
    "    print(f'5 Most common discussed topic #{index}')\n",
    "    print([tfidf.get_feature_names()[i] for i in topic.argsort()[-5:]])\n",
    "    print('\\n')"
   ]
  },
  {
   "cell_type": "code",
   "execution_count": 70,
   "id": "769b2ab6",
   "metadata": {},
   "outputs": [
    {
     "data": {
      "text/html": [
       "<div>\n",
       "<style scoped>\n",
       "    .dataframe tbody tr th:only-of-type {\n",
       "        vertical-align: middle;\n",
       "    }\n",
       "\n",
       "    .dataframe tbody tr th {\n",
       "        vertical-align: top;\n",
       "    }\n",
       "\n",
       "    .dataframe thead th {\n",
       "        text-align: right;\n",
       "    }\n",
       "</style>\n",
       "<table border=\"1\" class=\"dataframe\">\n",
       "  <thead>\n",
       "    <tr style=\"text-align: right;\">\n",
       "      <th></th>\n",
       "      <th>tweet</th>\n",
       "      <th>score</th>\n",
       "      <th>compound</th>\n",
       "      <th>sentiment</th>\n",
       "      <th>Topic</th>\n",
       "    </tr>\n",
       "  </thead>\n",
       "  <tbody>\n",
       "    <tr>\n",
       "      <th>0</th>\n",
       "      <td>Temp: 18.5�C. Humidity 71% Rain today 0.0 mm. ...</td>\n",
       "      <td>{'neg': 0.074, 'neu': 0.926, 'pos': 0.0, 'comp...</td>\n",
       "      <td>-0.1531</td>\n",
       "      <td>negative</td>\n",
       "      <td>1</td>\n",
       "    </tr>\n",
       "    <tr>\n",
       "      <th>1</th>\n",
       "      <td>Sorry guys… you will have to drag me out of no...</td>\n",
       "      <td>{'neg': 0.213, 'neu': 0.787, 'pos': 0.0, 'comp...</td>\n",
       "      <td>-0.5267</td>\n",
       "      <td>negative</td>\n",
       "      <td>4</td>\n",
       "    </tr>\n",
       "    <tr>\n",
       "      <th>2</th>\n",
       "      <td>My heart just skipped a beat seeing “The Lord ...</td>\n",
       "      <td>{'neg': 0.0, 'neu': 0.877, 'pos': 0.123, 'comp...</td>\n",
       "      <td>0.5423</td>\n",
       "      <td>positive</td>\n",
       "      <td>4</td>\n",
       "    </tr>\n",
       "    <tr>\n",
       "      <th>3</th>\n",
       "      <td>Your mother could be LGBTQ\\nYour father could ...</td>\n",
       "      <td>{'neg': 0.0, 'neu': 0.823, 'pos': 0.177, 'comp...</td>\n",
       "      <td>0.4215</td>\n",
       "      <td>positive</td>\n",
       "      <td>4</td>\n",
       "    </tr>\n",
       "    <tr>\n",
       "      <th>4</th>\n",
       "      <td>EU GRITEI TANTO NESSE GOL</td>\n",
       "      <td>{'neg': 0.0, 'neu': 1.0, 'pos': 0.0, 'compound...</td>\n",
       "      <td>0.0000</td>\n",
       "      <td>positive</td>\n",
       "      <td>1</td>\n",
       "    </tr>\n",
       "    <tr>\n",
       "      <th>5</th>\n",
       "      <td>Castillo is hands down one of the funniest peo...</td>\n",
       "      <td>{'neg': 0.0, 'neu': 0.783, 'pos': 0.217, 'comp...</td>\n",
       "      <td>0.5574</td>\n",
       "      <td>positive</td>\n",
       "      <td>4</td>\n",
       "    </tr>\n",
       "    <tr>\n",
       "      <th>6</th>\n",
       "      <td>desayunando ya por fin 🙏</td>\n",
       "      <td>{'neg': 0.0, 'neu': 1.0, 'pos': 0.0, 'compound...</td>\n",
       "      <td>0.0000</td>\n",
       "      <td>positive</td>\n",
       "      <td>3</td>\n",
       "    </tr>\n",
       "    <tr>\n",
       "      <th>7</th>\n",
       "      <td>tell me why kyle is tutting me in his sleep ff...</td>\n",
       "      <td>{'neg': 0.318, 'neu': 0.682, 'pos': 0.0, 'comp...</td>\n",
       "      <td>-0.7906</td>\n",
       "      <td>negative</td>\n",
       "      <td>4</td>\n",
       "    </tr>\n",
       "    <tr>\n",
       "      <th>8</th>\n",
       "      <td>I could watch cooking shows for the rest of my...</td>\n",
       "      <td>{'neg': 0.0, 'neu': 1.0, 'pos': 0.0, 'compound...</td>\n",
       "      <td>0.0000</td>\n",
       "      <td>positive</td>\n",
       "      <td>4</td>\n",
       "    </tr>\n",
       "    <tr>\n",
       "      <th>9</th>\n",
       "      <td>Thinking of doing a live listening party for b...</td>\n",
       "      <td>{'neg': 0.0, 'neu': 0.748, 'pos': 0.252, 'comp...</td>\n",
       "      <td>0.4019</td>\n",
       "      <td>positive</td>\n",
       "      <td>4</td>\n",
       "    </tr>\n",
       "  </tbody>\n",
       "</table>\n",
       "</div>"
      ],
      "text/plain": [
       "                                               tweet  \\\n",
       "0  Temp: 18.5�C. Humidity 71% Rain today 0.0 mm. ...   \n",
       "1  Sorry guys… you will have to drag me out of no...   \n",
       "2  My heart just skipped a beat seeing “The Lord ...   \n",
       "3  Your mother could be LGBTQ\\nYour father could ...   \n",
       "4                          EU GRITEI TANTO NESSE GOL   \n",
       "5  Castillo is hands down one of the funniest peo...   \n",
       "6                           desayunando ya por fin 🙏   \n",
       "7  tell me why kyle is tutting me in his sleep ff...   \n",
       "8  I could watch cooking shows for the rest of my...   \n",
       "9  Thinking of doing a live listening party for b...   \n",
       "\n",
       "                                               score  compound sentiment  \\\n",
       "0  {'neg': 0.074, 'neu': 0.926, 'pos': 0.0, 'comp...   -0.1531  negative   \n",
       "1  {'neg': 0.213, 'neu': 0.787, 'pos': 0.0, 'comp...   -0.5267  negative   \n",
       "2  {'neg': 0.0, 'neu': 0.877, 'pos': 0.123, 'comp...    0.5423  positive   \n",
       "3  {'neg': 0.0, 'neu': 0.823, 'pos': 0.177, 'comp...    0.4215  positive   \n",
       "4  {'neg': 0.0, 'neu': 1.0, 'pos': 0.0, 'compound...    0.0000  positive   \n",
       "5  {'neg': 0.0, 'neu': 0.783, 'pos': 0.217, 'comp...    0.5574  positive   \n",
       "6  {'neg': 0.0, 'neu': 1.0, 'pos': 0.0, 'compound...    0.0000  positive   \n",
       "7  {'neg': 0.318, 'neu': 0.682, 'pos': 0.0, 'comp...   -0.7906  negative   \n",
       "8  {'neg': 0.0, 'neu': 1.0, 'pos': 0.0, 'compound...    0.0000  positive   \n",
       "9  {'neg': 0.0, 'neu': 0.748, 'pos': 0.252, 'comp...    0.4019  positive   \n",
       "\n",
       "   Topic  \n",
       "0      1  \n",
       "1      4  \n",
       "2      4  \n",
       "3      4  \n",
       "4      1  \n",
       "5      4  \n",
       "6      3  \n",
       "7      4  \n",
       "8      4  \n",
       "9      4  "
      ]
     },
     "execution_count": 70,
     "metadata": {},
     "output_type": "execute_result"
    }
   ],
   "source": [
    "topic_results = nmf_model.transform(dtm)\n",
    "topic_results.argmax(axis=1)\n",
    "df1['Topic'] = topic_results.argmax(axis=1)\n",
    "df1.head(10)"
   ]
  },
  {
   "cell_type": "code",
   "execution_count": null,
   "id": "397eed29",
   "metadata": {},
   "outputs": [],
   "source": []
  }
 ],
 "metadata": {
  "kernelspec": {
   "display_name": "Python 3",
   "language": "python",
   "name": "python3"
  },
  "language_info": {
   "codemirror_mode": {
    "name": "ipython",
    "version": 3
   },
   "file_extension": ".py",
   "mimetype": "text/x-python",
   "name": "python",
   "nbconvert_exporter": "python",
   "pygments_lexer": "ipython3",
   "version": "3.8.8"
  }
 },
 "nbformat": 4,
 "nbformat_minor": 5
}
