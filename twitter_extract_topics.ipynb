{
 "cells": [
  {
   "cell_type": "code",
   "execution_count": 34,
   "id": "ee0bca88",
   "metadata": {},
   "outputs": [],
   "source": [
    "import numpy as np\n",
    "import pandas as pd\n",
    "import matplotlib.pyplot as plt\n",
    "import tweepy\n",
    "import snscrape.modules.twitter as sntwitter\n",
    "import csv\n",
    "import string\n",
    "from collections import Counter\n",
    "#nltk.download()\n",
    "import nltk\n",
    "from nltk.corpus import stopwords\n",
    "from nltk.sentiment.vader import SentimentIntensityAnalyzer\n",
    "from nltk.stem import WordNetLemmatizer\n",
    "from nltk.tokenize import word_tokenize\n",
    "import json\n",
    "import pandas as pd\n",
    "#from scipy.misc import imread\n",
    "from wordcloud import WordCloud, STOPWORDS, ImageColorGenerator\n",
    "import matplotlib as mpl\n",
    "import csv\n",
    "import matplotlib.pyplot as plt\n",
    "import operator\n",
    "from textblob import TextBlob\n",
    "from textblob import Word\n",
    "from textblob.sentiments import NaiveBayesAnalyzer\n",
    "import re"
   ]
  },
  {
   "cell_type": "markdown",
   "id": "e3c22f91",
   "metadata": {},
   "source": [
    "# Twitter Developer API"
   ]
  },
  {
   "cell_type": "code",
   "execution_count": 35,
   "id": "ea344d39",
   "metadata": {},
   "outputs": [],
   "source": [
    "#https://developer.twitter.com/en/portal/dashboard\n",
    "\n",
    "API_KEY = 'JYW7WsKbVLqOnhJZd4Kqfwtfk'\n",
    "API_SECRET = 'sPAUmw4DQhnb4aGmZD1B8On7Z8SJzegycAfQEM9wGL3GFwx4ni'\n",
    "ACCESS_TOKEN = '900524114976296960-vBIQ0CoAWvP4kfSctnB3ejV5bJpNMqw'\n",
    "ACCESS_TOKEN_SECRET = 'egd1tOSY0LYKB1fxjPTBCvPPtYMIhJmlAI6HZ7Z09Zv7j'\n",
    "\n",
    "a = tweepy.OAuthHandler(API_KEY, API_SECRET)\n",
    "a.set_access_token(ACCESS_TOKEN, ACCESS_TOKEN_SECRET)\n",
    "API = tweepy.API(a)"
   ]
  },
  {
   "cell_type": "markdown",
   "id": "ccc49ac2",
   "metadata": {},
   "source": [
    "# Twitter Trending Now"
   ]
  },
  {
   "cell_type": "code",
   "execution_count": 72,
   "id": "8dfa94ec",
   "metadata": {},
   "outputs": [
    {
     "name": "stdout",
     "output_type": "stream",
     "text": [
      "Trending now in London:\n",
      "['Mick', 'Jason Roy', '#ENGvsIND', 'Gleeson', 'Royal Aclaim', 'Fresh', '#LFCC', '#homerunderbyx', '#groundhopping', 'Trialist', '#eiduladha2022', 'Emerson', 'Vettel', 'Checo', 'Happy Eid', 'Moscow', 'Suella', 'Stevenage', 'Braverman', 'Perez', 'Archer', 'Gasly', 'Joseph Quinn', 'Firpo', 'BAME', 'Alonso', 'Grant Shapps', 'Michael Green', 'Reguilon', 'Derry', 'Sri Lanka', 'Saints', 'Anscombe', 'Sebastian Fox', 'Wigan', 'Corinne Stockheath', 'Jullien', 'Hawkeye', 'Joe Batchelor', 'Joe Aribo', 'Northern Hemisphere', 'Eid Mubarak', 'Rybakina', 'Albon', 'Kyogo', 'Andrea', 'Enciso', 'Alcohol Free', 'Wardley', 'Wales']\n"
     ]
    }
   ],
   "source": [
    "#https://www.woeids.com/ # WOEID of London\n",
    "woeid = 44418\n",
    "trendingnow = API.get_place_trends(id = woeid)\n",
    "print(\"Trending now in London:\")\n",
    " \n",
    "for trend in trendingnow:\n",
    "    trends = []\n",
    "    for tr in trend['trends']:\n",
    "        trends.append(tr['name'])\n",
    "print(trends)    "
   ]
  },
  {
   "cell_type": "markdown",
   "id": "cbadc080",
   "metadata": {},
   "source": [
    "# Collect Tweets around area"
   ]
  },
  {
   "cell_type": "code",
   "execution_count": 37,
   "id": "62fc2c74",
   "metadata": {},
   "outputs": [],
   "source": [
    "import snscrape.modules.twitter as sntwitter\n",
    "import csv\n",
    "\n",
    "maxTweets = 200\n",
    "#Create csv file, or append data into\n",
    "text = open('London_tweets.csv', 'a', newline='', encoding='utf8')\n",
    "\n",
    "#write tweets into csv file\n",
    "textWriter = csv.writer(text)\n",
    "textWriter.writerow(['id','date','username','tweet']) \n",
    "\n",
    "#Radius around 100 miles around the custom geo code\n",
    "for i,tweet in enumerate(sntwitter.TwitterSearchScraper('geocode:51.51147,-0.1220,100mi \\\n",
    "                                        + since:2022-07-01 until:2022-07-07 -filter:links -filter:replies').get_items()):\n",
    "    if i > maxTweets :\n",
    "            break\n",
    "\n",
    "    textWriter.writerow([tweet.id, tweet.date, tweet.user.username, tweet.content])   \n",
    "    \n",
    "text.close()"
   ]
  },
  {
   "cell_type": "markdown",
   "id": "db9b4af1",
   "metadata": {},
   "source": [
    "# Pre-processing, Cleaning"
   ]
  },
  {
   "cell_type": "code",
   "execution_count": 54,
   "id": "266f29d7",
   "metadata": {},
   "outputs": [],
   "source": [
    "text = open('London_tweets.csv', encoding='utf-8').read()"
   ]
  },
  {
   "cell_type": "code",
   "execution_count": 55,
   "id": "942cd4cc",
   "metadata": {},
   "outputs": [],
   "source": [
    "lower_case = text.lower()"
   ]
  },
  {
   "cell_type": "code",
   "execution_count": 57,
   "id": "920c928f",
   "metadata": {},
   "outputs": [],
   "source": [
    "cleaned_text = lower_case.translate(str.maketrans('', '', string.punctuation))"
   ]
  },
  {
   "cell_type": "code",
   "execution_count": 58,
   "id": "e58ba063",
   "metadata": {},
   "outputs": [],
   "source": [
    "# word_tokenize \n",
    "tokenized_words = word_tokenize(cleaned_text, \"english\")"
   ]
  },
  {
   "cell_type": "code",
   "execution_count": 59,
   "id": "7ac7892d",
   "metadata": {},
   "outputs": [],
   "source": [
    "# Removing Stop Words\n",
    "final_words = []\n",
    "for word in tokenized_words:\n",
    "    if word not in stopwords.words('english'):\n",
    "        final_words.append(word)"
   ]
  },
  {
   "cell_type": "code",
   "execution_count": 60,
   "id": "723a32d4",
   "metadata": {},
   "outputs": [],
   "source": [
    "# Lemmatization - From plural to single, and Base form of a word\n",
    "lemma_words = []\n",
    "for word in final_words:\n",
    "    word = WordNetLemmatizer().lemmatize(word)\n",
    "    lemma_words.append(word)      \n",
    "#print(lemma_words)"
   ]
  },
  {
   "cell_type": "markdown",
   "id": "3c62521b",
   "metadata": {},
   "source": [
    "## Sentiment Analysis"
   ]
  },
  {
   "cell_type": "code",
   "execution_count": 61,
   "id": "8f5e5c43",
   "metadata": {},
   "outputs": [
    {
     "name": "stdout",
     "output_type": "stream",
     "text": [
      "[' adequate', ' happy', ' free', ' happy', ' lustful', ' sad', ' attached', ' sad', ' attracted', ' obsessed', ' alone', ' fearful', ' surprise', ' alone', ' adequate', ' happy', ' sad', ' hated']\n",
      "Counter({' happy': 3, ' sad': 3, ' adequate': 2, ' alone': 2, ' free': 1, ' lustful': 1, ' attached': 1, ' attracted': 1, ' obsessed': 1, ' fearful': 1, ' surprise': 1, ' hated': 1})\n",
      "Positive Sentiment\n"
     ]
    },
    {
     "data": {
      "image/png": "[encoded data removed]",
      "text/plain": [
       "<Figure size 432x288 with 1 Axes>"
      ]
     },
     "metadata": {
      "needs_background": "light"
     },
     "output_type": "display_data"
    }
   ],
   "source": [
    "emotion_list = []\n",
    "with open('emotions.txt', 'r') as file:\n",
    "    for line in file:\n",
    "        clear_line = line.replace(\"\\n\", '').replace(\",\", '').replace(\"'\", '').strip()\n",
    "        word, emotion = clear_line.split(':')\n",
    "\n",
    "        if word in lemma_words:\n",
    "            emotion_list.append(emotion)\n",
    "\n",
    "print(emotion_list)\n",
    "w = Counter(emotion_list)\n",
    "print(w)\n",
    "\n",
    "def sentiment_analyse(sentiment_text):\n",
    "    score = SentimentIntensityAnalyzer().polarity_scores(sentiment_text)\n",
    "    if score['neg'] > score['pos']:\n",
    "        print(\"Negative Sentiment\")\n",
    "    elif score['neg'] < score['pos']:\n",
    "        print(\"Positive Sentiment\")\n",
    "    else:\n",
    "        print(\"Neutral Sentiment\")\n",
    "\n",
    "sentiment_analyse(cleaned_text)\n",
    "\n",
    "fig, ax1 = plt.subplots()\n",
    "ax1.bar(w.keys(), w.values())\n",
    "fig.autofmt_xdate()\n",
    "plt.savefig('graph.png')\n",
    "plt.show()"
   ]
  },
  {
   "cell_type": "markdown",
   "id": "58245782",
   "metadata": {},
   "source": [
    "## 5 Most Active Users"
   ]
  },
  {
   "cell_type": "code",
   "execution_count": 86,
   "id": "c55c532d",
   "metadata": {},
   "outputs": [
    {
     "data": {
      "text/html": [
       "<div>\n",
       "<style scoped>\n",
       "    .dataframe tbody tr th:only-of-type {\n",
       "        vertical-align: middle;\n",
       "    }\n",
       "\n",
       "    .dataframe tbody tr th {\n",
       "        vertical-align: top;\n",
       "    }\n",
       "\n",
       "    .dataframe thead th {\n",
       "        text-align: right;\n",
       "    }\n",
       "</style>\n",
       "<table border=\"1\" class=\"dataframe\">\n",
       "  <thead>\n",
       "    <tr style=\"text-align: right;\">\n",
       "      <th></th>\n",
       "      <th>username</th>\n",
       "      <th>tweet</th>\n",
       "    </tr>\n",
       "  </thead>\n",
       "  <tbody>\n",
       "    <tr>\n",
       "      <th>0</th>\n",
       "      <td>WokinghamWeatha</td>\n",
       "      <td>Temp: 18.5�C. Humidity 71% Rain today 0.0 mm. ...</td>\n",
       "    </tr>\n",
       "    <tr>\n",
       "      <th>1</th>\n",
       "      <td>gk3020</td>\n",
       "      <td>Sorry guys… you will have to drag me out of no...</td>\n",
       "    </tr>\n",
       "    <tr>\n",
       "      <th>2</th>\n",
       "      <td>_ACasso</td>\n",
       "      <td>My heart just skipped a beat seeing “The Lord ...</td>\n",
       "    </tr>\n",
       "    <tr>\n",
       "      <th>3</th>\n",
       "      <td>prowerrr_</td>\n",
       "      <td>Your mother could be LGBTQ\\nYour father could ...</td>\n",
       "    </tr>\n",
       "    <tr>\n",
       "      <th>4</th>\n",
       "      <td>mylewishamilton</td>\n",
       "      <td>EU GRITEI TANTO NESSE GOL</td>\n",
       "    </tr>\n",
       "  </tbody>\n",
       "</table>\n",
       "</div>"
      ],
      "text/plain": [
       "          username                                              tweet\n",
       "0  WokinghamWeatha  Temp: 18.5�C. Humidity 71% Rain today 0.0 mm. ...\n",
       "1           gk3020  Sorry guys… you will have to drag me out of no...\n",
       "2          _ACasso  My heart just skipped a beat seeing “The Lord ...\n",
       "3        prowerrr_  Your mother could be LGBTQ\\nYour father could ...\n",
       "4  mylewishamilton                          EU GRITEI TANTO NESSE GOL"
      ]
     },
     "execution_count": 86,
     "metadata": {},
     "output_type": "execute_result"
    }
   ],
   "source": [
    "df = pd.read_csv('London_tweets.csv')\n",
    "df = df.drop(columns = ['id','date'])\n",
    "df.head(5)"
   ]
  },
  {
   "cell_type": "code",
   "execution_count": 63,
   "id": "9ca6ec76",
   "metadata": {},
   "outputs": [
    {
     "data": {
      "text/plain": [
       "username    0\n",
       "tweet       0\n",
       "dtype: int64"
      ]
     },
     "execution_count": 63,
     "metadata": {},
     "output_type": "execute_result"
    }
   ],
   "source": [
    "df.isnull().sum()"
   ]
  },
  {
   "cell_type": "code",
   "execution_count": 64,
   "id": "9b2ce32c",
   "metadata": {},
   "outputs": [
    {
     "data": {
      "text/plain": [
       "201"
      ]
     },
     "execution_count": 64,
     "metadata": {},
     "output_type": "execute_result"
    }
   ],
   "source": [
    "len(df)"
   ]
  },
  {
   "cell_type": "code",
   "execution_count": 67,
   "id": "37bc7b4d",
   "metadata": {},
   "outputs": [
    {
     "data": {
      "text/html": [
       "<div>\n",
       "<style scoped>\n",
       "    .dataframe tbody tr th:only-of-type {\n",
       "        vertical-align: middle;\n",
       "    }\n",
       "\n",
       "    .dataframe tbody tr th {\n",
       "        vertical-align: top;\n",
       "    }\n",
       "\n",
       "    .dataframe thead th {\n",
       "        text-align: right;\n",
       "    }\n",
       "</style>\n",
       "<table border=\"1\" class=\"dataframe\">\n",
       "  <thead>\n",
       "    <tr style=\"text-align: right;\">\n",
       "      <th></th>\n",
       "      <th>tweet</th>\n",
       "    </tr>\n",
       "  </thead>\n",
       "  <tbody>\n",
       "    <tr>\n",
       "      <th>0</th>\n",
       "      <td>Temp: 18.5�C. Humidity 71% Rain today 0.0 mm. ...</td>\n",
       "    </tr>\n",
       "    <tr>\n",
       "      <th>1</th>\n",
       "      <td>Sorry guys… you will have to drag me out of no...</td>\n",
       "    </tr>\n",
       "    <tr>\n",
       "      <th>2</th>\n",
       "      <td>My heart just skipped a beat seeing “The Lord ...</td>\n",
       "    </tr>\n",
       "    <tr>\n",
       "      <th>3</th>\n",
       "      <td>Your mother could be LGBTQ\\nYour father could ...</td>\n",
       "    </tr>\n",
       "    <tr>\n",
       "      <th>4</th>\n",
       "      <td>EU GRITEI TANTO NESSE GOL</td>\n",
       "    </tr>\n",
       "  </tbody>\n",
       "</table>\n",
       "</div>"
      ],
      "text/plain": [
       "                                               tweet\n",
       "0  Temp: 18.5�C. Humidity 71% Rain today 0.0 mm. ...\n",
       "1  Sorry guys… you will have to drag me out of no...\n",
       "2  My heart just skipped a beat seeing “The Lord ...\n",
       "3  Your mother could be LGBTQ\\nYour father could ...\n",
       "4                          EU GRITEI TANTO NESSE GOL"
      ]
     },
     "execution_count": 67,
     "metadata": {},
     "output_type": "execute_result"
    }
   ],
   "source": [
    "df1 = df.drop(columns = ['username'])\n",
    "df1.head(5)"
   ]
  },
  {
   "cell_type": "code",
   "execution_count": 65,
   "id": "dcec7b6d",
   "metadata": {},
   "outputs": [
    {
     "data": {
      "text/plain": [
       "pgnyash           4\n",
       "Sep1914Antonio    4\n",
       "SpikellaxGrimm    3\n",
       "hiimsad0          3\n",
       "JajaPhD           2\n",
       "Name: username, dtype: int64"
      ]
     },
     "execution_count": 65,
     "metadata": {},
     "output_type": "execute_result"
    }
   ],
   "source": [
    "#df['username'].unique()\n",
    "userlist = df['username'].value_counts()\n",
    "most_active_users = userlist.head(5)\n",
    "most_active_users"
   ]
  },
  {
   "cell_type": "code",
   "execution_count": 66,
   "id": "82afd1d8",
   "metadata": {},
   "outputs": [
    {
     "data": {
      "image/png": "[encoded data removed]",
      "text/plain": [
       "<Figure size 360x360 with 1 Axes>"
      ]
     },
     "metadata": {},
     "output_type": "display_data"
    }
   ],
   "source": [
    "plot_users=most_active_users.plot.pie(autopct='%1.1f%%', figsize=(5, 5))\n",
    "plt.savefig(\"Piechart\",transparent=False, bbox_inches='tight',pad_inches=0.1)"
   ]
  },
  {
   "cell_type": "markdown",
   "id": "3645910a",
   "metadata": {},
   "source": [
    "## 5 Most Popular hastags"
   ]
  },
  {
   "cell_type": "code",
   "execution_count": 82,
   "id": "2665ba09",
   "metadata": {},
   "outputs": [
    {
     "name": "stdout",
     "output_type": "stream",
     "text": [
      "['talkswithash', 'lagosswindler', 'canterburytales', 'lagosswindlers', 'rony', 'palmeiras', 'chelsea', 'dybala', 'milan', 'cfc', 'borisout', 'borisjohnsonmustresign', 'byeboris', 'borisjohnsonmustgo', 'borisjohnson', 'trump', 'boris', 'johnsonmustgo', 'lagosswindlers', 'lastlast', 'avax', 'mitb', 'wwesmackdown', 'nowplaying', 'tonicskaradio', 'firstplay', 'bbc6music', 'loveisland', 'timefortrump', 'topray', 'pbrisingstars', 'talkswithash', 'loveisland', 'nowplaying', 'chris', 'hortonpark', 'epsom']\n"
     ]
    }
   ],
   "source": [
    "hashtg = re.findall(r\"#(\\w+)\", lower_case)\n",
    "print(hashtg)"
   ]
  },
  {
   "cell_type": "code",
   "execution_count": 83,
   "id": "6b438761",
   "metadata": {},
   "outputs": [
    {
     "name": "stdout",
     "output_type": "stream",
     "text": [
      "['talkswithash', 'lagosswindler', 'canterburytales', 'lagosswindlers', 'rony', 'palmeiras', 'chelsea', 'dybala', 'milan', 'cfc', 'borisout', 'borisjohnsonmustresign', 'byeboris', 'borisjohnsonmustgo', 'borisjohnson', 'trump', 'boris', 'johnsonmustgo', 'lagosswindlers', 'lastlast', 'avax', 'mitb', 'wwesmackdown', 'nowplaying', 'tonicskaradio', 'firstplay', 'bbc6music', 'loveisland', 'timefortrump', 'topray', 'pbrisingstars', 'talkswithash', 'loveisland', 'nowplaying', 'chris', 'hortonpark', 'epsom']\n"
     ]
    }
   ],
   "source": [
    "# Lemmatization - From plural to single, and Base form of a word\n",
    "lemma_w = []\n",
    "for hashw in hashtg:\n",
    "    hashw = WordNetLemmatizer().lemmatize(hashw)\n",
    "    lemma_w.append(hashw)      \n",
    "print(lemma_w)"
   ]
  },
  {
   "cell_type": "code",
   "execution_count": null,
   "id": "eed45e3d",
   "metadata": {},
   "outputs": [],
   "source": []
  },
  {
   "cell_type": "code",
   "execution_count": null,
   "id": "5ecf8fc1",
   "metadata": {},
   "outputs": [],
   "source": []
  },
  {
   "cell_type": "markdown",
   "id": "a73257b7",
   "metadata": {},
   "source": [
    "# Topic extraction with LDA (Latent Dirichlet Allocation)"
   ]
  },
  {
   "cell_type": "code",
   "execution_count": 87,
   "id": "c499dece",
   "metadata": {},
   "outputs": [
    {
     "data": {
      "text/plain": [
       "<201x1328 sparse matrix of type '<class 'numpy.int64'>'\n",
       "\twith 1663 stored elements in Compressed Sparse Row format>"
      ]
     },
     "execution_count": 87,
     "metadata": {},
     "output_type": "execute_result"
    }
   ],
   "source": [
    "import pandas as pd\n",
    "from sklearn.feature_extraction.text import CountVectorizer\n",
    "cv = CountVectorizer(max_df=0.95, min_df=1, stop_words='english')\n",
    "dtm = cv.fit_transform(df1['tweet'])\n",
    "dtm"
   ]
  },
  {
   "cell_type": "code",
   "execution_count": 88,
   "id": "ab02ba07",
   "metadata": {},
   "outputs": [
    {
     "data": {
      "text/plain": [
       "LatentDirichletAllocation(n_components=5, random_state=42)"
      ]
     },
     "execution_count": 88,
     "metadata": {},
     "output_type": "execute_result"
    }
   ],
   "source": [
    "#LDA\n",
    "from sklearn.decomposition import LatentDirichletAllocation\n",
    "LDA = LatentDirichletAllocation(n_components=5,random_state=42)\n",
    "LDA.fit(dtm)"
   ]
  },
  {
   "cell_type": "code",
   "execution_count": 89,
   "id": "0cf03831",
   "metadata": {},
   "outputs": [
    {
     "data": {
      "text/plain": [
       "1328"
      ]
     },
     "execution_count": 89,
     "metadata": {},
     "output_type": "execute_result"
    }
   ],
   "source": [
    "len(cv.get_feature_names())"
   ]
  },
  {
   "cell_type": "code",
   "execution_count": 90,
   "id": "880b5ef5",
   "metadata": {},
   "outputs": [
    {
     "name": "stdout",
     "output_type": "stream",
     "text": [
      "1023\n",
      "1023\n",
      "1023\n",
      "1023\n",
      "10\n"
     ]
    }
   ],
   "source": [
    "import random\n",
    "for i in range(5):\n",
    "    random_word_id = random.randint(0,2)\n",
    "    print(cv.get_feature_names()[random_word_id])"
   ]
  },
  {
   "cell_type": "code",
   "execution_count": 91,
   "id": "2f65119e",
   "metadata": {},
   "outputs": [
    {
     "name": "stdout",
     "output_type": "stream",
     "text": [
      "10\n",
      "1023\n",
      "10\n",
      "10\n",
      "10\n",
      "10\n",
      "10\n",
      "07\n",
      "1023\n",
      "07\n"
     ]
    }
   ],
   "source": [
    "for i in range(10):\n",
    "    random_word_id = random.randint(0,2)\n",
    "    print(cv.get_feature_names()[random_word_id])"
   ]
  },
  {
   "cell_type": "code",
   "execution_count": 92,
   "id": "2874e095",
   "metadata": {},
   "outputs": [
    {
     "data": {
      "text/plain": [
       "array([[2.19998462, 1.19776724, 0.20000155, ..., 0.20001501, 1.19997609,\n",
       "        1.19997609],\n",
       "       [0.20000389, 1.20062049, 1.19999378, ..., 0.20001523, 0.20000605,\n",
       "        0.20000605],\n",
       "       [0.20000434, 0.20001328, 0.20000175, ..., 0.20001696, 0.20000674,\n",
       "        0.20000674],\n",
       "       [0.20000394, 0.20001208, 0.20000159, ..., 0.20001542, 0.20000613,\n",
       "        0.20000613],\n",
       "       [0.20000321, 3.20158691, 0.20000133, ..., 1.19993738, 0.20000499,\n",
       "        0.20000499]])"
      ]
     },
     "execution_count": 92,
     "metadata": {},
     "output_type": "execute_result"
    }
   ],
   "source": [
    "LDA.components_"
   ]
  },
  {
   "cell_type": "code",
   "execution_count": 93,
   "id": "5120dbaf",
   "metadata": {},
   "outputs": [
    {
     "data": {
      "text/plain": [
       "1328"
      ]
     },
     "execution_count": 93,
     "metadata": {},
     "output_type": "execute_result"
    }
   ],
   "source": [
    "len(LDA.components_[0])"
   ]
  },
  {
   "cell_type": "code",
   "execution_count": 94,
   "id": "7caddbb8",
   "metadata": {},
   "outputs": [],
   "source": [
    "single_topic = LDA.components_[0]"
   ]
  },
  {
   "cell_type": "code",
   "execution_count": 95,
   "id": "9addaee3",
   "metadata": {},
   "outputs": [
    {
     "data": {
      "text/plain": [
       "array([1306, 1275, 1235, ...,  832,  454, 1100], dtype=int64)"
      ]
     },
     "execution_count": 95,
     "metadata": {},
     "output_type": "execute_result"
    }
   ],
   "source": [
    "single_topic.argsort()"
   ]
  },
  {
   "cell_type": "code",
   "execution_count": 96,
   "id": "003d0a40",
   "metadata": {},
   "outputs": [
    {
     "data": {
      "text/plain": [
       "0.2000047383352056"
      ]
     },
     "execution_count": 96,
     "metadata": {},
     "output_type": "execute_result"
    }
   ],
   "source": [
    "single_topic[183]"
   ]
  },
  {
   "cell_type": "code",
   "execution_count": 97,
   "id": "5be4a00f",
   "metadata": {},
   "outputs": [
    {
     "data": {
      "text/plain": [
       "array([ 874, 1279,  832,  454, 1100], dtype=int64)"
      ]
     },
     "execution_count": 97,
     "metadata": {},
     "output_type": "execute_result"
    }
   ],
   "source": [
    "# Top 5 words for this topic:\n",
    "single_topic.argsort()[-5:]"
   ]
  },
  {
   "cell_type": "code",
   "execution_count": 98,
   "id": "73e765d9",
   "metadata": {},
   "outputs": [],
   "source": [
    "top_word_indices = single_topic.argsort()[-5:]"
   ]
  },
  {
   "cell_type": "code",
   "execution_count": 116,
   "id": "bf8ea664",
   "metadata": {},
   "outputs": [
    {
     "name": "stdout",
     "output_type": "stream",
     "text": [
      "rony\n",
      "نمشے\n",
      "que\n",
      "h70\n",
      "w77\n"
     ]
    }
   ],
   "source": [
    "for index in top_word_indices:\n",
    "    print(cv.get_feature_names()[index])"
   ]
  },
  {
   "cell_type": "code",
   "execution_count": 100,
   "id": "1c89431a",
   "metadata": {},
   "outputs": [
    {
     "name": "stdout",
     "output_type": "stream",
     "text": [
      "5 Most common discussed topic #0\n",
      "['rony', 'نمشے', 'que', 'h70', 'w77']\n",
      "\n",
      "\n",
      "5 Most common discussed topic #1\n",
      "['really', 'man', 'meu', 'just', 'rony']\n",
      "\n",
      "\n",
      "5 Most common discussed topic #2\n",
      "['کے', 'eu', 'اور', 'ol97', 'time']\n",
      "\n",
      "\n",
      "5 Most common discussed topic #3\n",
      "['make', 've', 'um', 'life', 'jesus']\n",
      "\n",
      "\n",
      "5 Most common discussed topic #4\n",
      "['pop', 'don', 'wordle', '383', 'rústico']\n",
      "\n",
      "\n"
     ]
    }
   ],
   "source": [
    "for index,topic in enumerate(LDA.components_):\n",
    "    print(f'5 Most common discussed topic #{index}')\n",
    "    print([cv.get_feature_names()[i] for i in topic.argsort()[-5:]])\n",
    "    print('\\n')"
   ]
  },
  {
   "cell_type": "code",
   "execution_count": 101,
   "id": "9ba71fd3",
   "metadata": {},
   "outputs": [
    {
     "data": {
      "text/plain": [
       "<201x1328 sparse matrix of type '<class 'numpy.int64'>'\n",
       "\twith 1663 stored elements in Compressed Sparse Row format>"
      ]
     },
     "execution_count": 101,
     "metadata": {},
     "output_type": "execute_result"
    }
   ],
   "source": [
    "dtm"
   ]
  },
  {
   "cell_type": "code",
   "execution_count": 102,
   "id": "786f7478",
   "metadata": {},
   "outputs": [
    {
     "data": {
      "text/plain": [
       "(201, 1328)"
      ]
     },
     "execution_count": 102,
     "metadata": {},
     "output_type": "execute_result"
    }
   ],
   "source": [
    "dtm.shape"
   ]
  },
  {
   "cell_type": "code",
   "execution_count": 103,
   "id": "e0974822",
   "metadata": {},
   "outputs": [],
   "source": [
    "topic_results = LDA.transform(dtm)"
   ]
  },
  {
   "cell_type": "code",
   "execution_count": 104,
   "id": "3c3d82a5",
   "metadata": {},
   "outputs": [
    {
     "data": {
      "text/plain": [
       "(201, 5)"
      ]
     },
     "execution_count": 104,
     "metadata": {},
     "output_type": "execute_result"
    }
   ],
   "source": [
    "topic_results.shape"
   ]
  },
  {
   "cell_type": "code",
   "execution_count": 105,
   "id": "0e731994",
   "metadata": {},
   "outputs": [
    {
     "data": {
      "text/plain": [
       "array([0.01056317, 0.95782465, 0.01054463, 0.01052774, 0.01053981])"
      ]
     },
     "execution_count": 105,
     "metadata": {},
     "output_type": "execute_result"
    }
   ],
   "source": [
    "topic_results[0]"
   ]
  },
  {
   "cell_type": "code",
   "execution_count": 106,
   "id": "7d718bf4",
   "metadata": {},
   "outputs": [
    {
     "data": {
      "text/plain": [
       "array([0.01, 0.96, 0.01, 0.01, 0.01])"
      ]
     },
     "execution_count": 106,
     "metadata": {},
     "output_type": "execute_result"
    }
   ],
   "source": [
    "topic_results[0].round(2)"
   ]
  },
  {
   "cell_type": "code",
   "execution_count": 107,
   "id": "aaf56c35",
   "metadata": {},
   "outputs": [
    {
     "data": {
      "text/plain": [
       "1"
      ]
     },
     "execution_count": 107,
     "metadata": {},
     "output_type": "execute_result"
    }
   ],
   "source": [
    "topic_results[0].argmax()"
   ]
  },
  {
   "cell_type": "code",
   "execution_count": 108,
   "id": "288b7ced",
   "metadata": {},
   "outputs": [
    {
     "data": {
      "text/html": [
       "<div>\n",
       "<style scoped>\n",
       "    .dataframe tbody tr th:only-of-type {\n",
       "        vertical-align: middle;\n",
       "    }\n",
       "\n",
       "    .dataframe tbody tr th {\n",
       "        vertical-align: top;\n",
       "    }\n",
       "\n",
       "    .dataframe thead th {\n",
       "        text-align: right;\n",
       "    }\n",
       "</style>\n",
       "<table border=\"1\" class=\"dataframe\">\n",
       "  <thead>\n",
       "    <tr style=\"text-align: right;\">\n",
       "      <th></th>\n",
       "      <th>tweet</th>\n",
       "    </tr>\n",
       "  </thead>\n",
       "  <tbody>\n",
       "    <tr>\n",
       "      <th>0</th>\n",
       "      <td>Temp: 18.5�C. Humidity 71% Rain today 0.0 mm. ...</td>\n",
       "    </tr>\n",
       "    <tr>\n",
       "      <th>1</th>\n",
       "      <td>Sorry guys… you will have to drag me out of no...</td>\n",
       "    </tr>\n",
       "    <tr>\n",
       "      <th>2</th>\n",
       "      <td>My heart just skipped a beat seeing “The Lord ...</td>\n",
       "    </tr>\n",
       "    <tr>\n",
       "      <th>3</th>\n",
       "      <td>Your mother could be LGBTQ\\nYour father could ...</td>\n",
       "    </tr>\n",
       "    <tr>\n",
       "      <th>4</th>\n",
       "      <td>EU GRITEI TANTO NESSE GOL</td>\n",
       "    </tr>\n",
       "  </tbody>\n",
       "</table>\n",
       "</div>"
      ],
      "text/plain": [
       "                                               tweet\n",
       "0  Temp: 18.5�C. Humidity 71% Rain today 0.0 mm. ...\n",
       "1  Sorry guys… you will have to drag me out of no...\n",
       "2  My heart just skipped a beat seeing “The Lord ...\n",
       "3  Your mother could be LGBTQ\\nYour father could ...\n",
       "4                          EU GRITEI TANTO NESSE GOL"
      ]
     },
     "execution_count": 108,
     "metadata": {},
     "output_type": "execute_result"
    }
   ],
   "source": [
    "df1.head()"
   ]
  },
  {
   "cell_type": "code",
   "execution_count": 109,
   "id": "071de75b",
   "metadata": {},
   "outputs": [
    {
     "data": {
      "text/plain": [
       "array([1, 0, 4, 1, 4, 2, 0, 4, 3, 2, 0, 4, 0, 1, 3, 3, 4, 1, 2, 4, 4, 2,\n",
       "       2, 2, 2, 3, 4, 0, 3, 1, 0, 4, 1, 3, 3, 2, 0, 3, 4, 4, 0, 0, 1, 0,\n",
       "       0, 4, 2, 2, 4, 4, 3, 2, 4, 3, 1, 0, 4, 1, 1, 1, 2, 3, 0, 4, 0, 0,\n",
       "       4, 4, 4, 2, 2, 1, 3, 1, 1, 4, 4, 0, 0, 2, 1, 4, 1, 4, 3, 1, 2, 0,\n",
       "       1, 2, 4, 1, 0, 2, 1, 0, 2, 4, 1, 2, 0, 2, 2, 1, 0, 1, 0, 3, 3, 0,\n",
       "       4, 4, 1, 1, 0, 2, 4, 4, 0, 1, 4, 3, 1, 0, 0, 0, 3, 4, 4, 0, 3, 4,\n",
       "       0, 3, 3, 0, 2, 4, 4, 1, 2, 3, 3, 1, 3, 4, 3, 2, 0, 4, 3, 3, 0, 3,\n",
       "       1, 2, 0, 1, 0, 0, 1, 3, 1, 4, 3, 1, 4, 0, 0, 0, 0, 4, 4, 2, 1, 3,\n",
       "       4, 4, 3, 4, 0, 4, 2, 0, 0, 3, 4, 3, 1, 0, 0, 1, 1, 1, 2, 4, 4, 4,\n",
       "       0, 3, 4], dtype=int64)"
      ]
     },
     "execution_count": 109,
     "metadata": {},
     "output_type": "execute_result"
    }
   ],
   "source": [
    "topic_results.argmax(axis=1)"
   ]
  },
  {
   "cell_type": "code",
   "execution_count": 110,
   "id": "6f451d03",
   "metadata": {},
   "outputs": [],
   "source": [
    "df1['Topic'] = topic_results.argmax(axis=1)"
   ]
  },
  {
   "cell_type": "code",
   "execution_count": 111,
   "id": "58505de7",
   "metadata": {},
   "outputs": [
    {
     "data": {
      "text/html": [
       "<div>\n",
       "<style scoped>\n",
       "    .dataframe tbody tr th:only-of-type {\n",
       "        vertical-align: middle;\n",
       "    }\n",
       "\n",
       "    .dataframe tbody tr th {\n",
       "        vertical-align: top;\n",
       "    }\n",
       "\n",
       "    .dataframe thead th {\n",
       "        text-align: right;\n",
       "    }\n",
       "</style>\n",
       "<table border=\"1\" class=\"dataframe\">\n",
       "  <thead>\n",
       "    <tr style=\"text-align: right;\">\n",
       "      <th></th>\n",
       "      <th>tweet</th>\n",
       "      <th>Topic</th>\n",
       "    </tr>\n",
       "  </thead>\n",
       "  <tbody>\n",
       "    <tr>\n",
       "      <th>0</th>\n",
       "      <td>Temp: 18.5�C. Humidity 71% Rain today 0.0 mm. ...</td>\n",
       "      <td>1</td>\n",
       "    </tr>\n",
       "    <tr>\n",
       "      <th>1</th>\n",
       "      <td>Sorry guys… you will have to drag me out of no...</td>\n",
       "      <td>0</td>\n",
       "    </tr>\n",
       "    <tr>\n",
       "      <th>2</th>\n",
       "      <td>My heart just skipped a beat seeing “The Lord ...</td>\n",
       "      <td>4</td>\n",
       "    </tr>\n",
       "    <tr>\n",
       "      <th>3</th>\n",
       "      <td>Your mother could be LGBTQ\\nYour father could ...</td>\n",
       "      <td>1</td>\n",
       "    </tr>\n",
       "    <tr>\n",
       "      <th>4</th>\n",
       "      <td>EU GRITEI TANTO NESSE GOL</td>\n",
       "      <td>4</td>\n",
       "    </tr>\n",
       "  </tbody>\n",
       "</table>\n",
       "</div>"
      ],
      "text/plain": [
       "                                               tweet  Topic\n",
       "0  Temp: 18.5�C. Humidity 71% Rain today 0.0 mm. ...      1\n",
       "1  Sorry guys… you will have to drag me out of no...      0\n",
       "2  My heart just skipped a beat seeing “The Lord ...      4\n",
       "3  Your mother could be LGBTQ\\nYour father could ...      1\n",
       "4                          EU GRITEI TANTO NESSE GOL      4"
      ]
     },
     "execution_count": 111,
     "metadata": {},
     "output_type": "execute_result"
    }
   ],
   "source": [
    "df1.head(5)"
   ]
  },
  {
   "cell_type": "markdown",
   "id": "ab5a3090",
   "metadata": {},
   "source": [
    "# Topic Modeling using NMF (Non-Negative Matric Factorization)"
   ]
  },
  {
   "cell_type": "code",
   "execution_count": 112,
   "id": "deeeb6ca",
   "metadata": {},
   "outputs": [
    {
     "data": {
      "text/plain": [
       "<201x1328 sparse matrix of type '<class 'numpy.float64'>'\n",
       "\twith 1663 stored elements in Compressed Sparse Row format>"
      ]
     },
     "execution_count": 112,
     "metadata": {},
     "output_type": "execute_result"
    }
   ],
   "source": [
    "from sklearn.feature_extraction.text import TfidfVectorizer\n",
    "tfidf = TfidfVectorizer(max_df=0.95, min_df=1, stop_words='english')\n",
    "dtm = tfidf.fit_transform(df1['tweet'])\n",
    "dtm"
   ]
  },
  {
   "cell_type": "code",
   "execution_count": 113,
   "id": "02b3041c",
   "metadata": {},
   "outputs": [
    {
     "data": {
      "text/plain": [
       "NMF(n_components=5, random_state=42)"
      ]
     },
     "execution_count": 113,
     "metadata": {},
     "output_type": "execute_result"
    }
   ],
   "source": [
    "from sklearn.decomposition import NMF\n",
    "nmf_model = NMF(n_components=5,random_state=42)\n",
    "nmf_model.fit(dtm)"
   ]
  },
  {
   "cell_type": "code",
   "execution_count": 114,
   "id": "a7a039bd",
   "metadata": {},
   "outputs": [
    {
     "name": "stdout",
     "output_type": "stream",
     "text": [
      "5 Most common discussed topic #0\n",
      "['bong', 'ma', 'males', '383', 'wordle']\n",
      "\n",
      "\n",
      "5 Most common discussed topic #1\n",
      "['pariu', 'jesus', 'golaço', 'rony', 'que']\n",
      "\n",
      "\n",
      "5 Most common discussed topic #2\n",
      "['results', 'problems', 'lazy', 'نمشے', 'w77']\n",
      "\n",
      "\n",
      "5 Most common discussed topic #3\n",
      "['tá', 'deussss', 'rony', 'deus', 'meu']\n",
      "\n",
      "\n",
      "5 Most common discussed topic #4\n",
      "['basic', 'live', 'truth', 'نمشے', 'h70']\n",
      "\n",
      "\n"
     ]
    }
   ],
   "source": [
    "for index,topic in enumerate(nmf_model.components_):\n",
    "    print(f'5 Most common discussed topic #{index}')\n",
    "    print([tfidf.get_feature_names()[i] for i in topic.argsort()[-5:]])\n",
    "    print('\\n')"
   ]
  },
  {
   "cell_type": "code",
   "execution_count": 115,
   "id": "769b2ab6",
   "metadata": {},
   "outputs": [
    {
     "data": {
      "text/html": [
       "<div>\n",
       "<style scoped>\n",
       "    .dataframe tbody tr th:only-of-type {\n",
       "        vertical-align: middle;\n",
       "    }\n",
       "\n",
       "    .dataframe tbody tr th {\n",
       "        vertical-align: top;\n",
       "    }\n",
       "\n",
       "    .dataframe thead th {\n",
       "        text-align: right;\n",
       "    }\n",
       "</style>\n",
       "<table border=\"1\" class=\"dataframe\">\n",
       "  <thead>\n",
       "    <tr style=\"text-align: right;\">\n",
       "      <th></th>\n",
       "      <th>tweet</th>\n",
       "      <th>Topic</th>\n",
       "    </tr>\n",
       "  </thead>\n",
       "  <tbody>\n",
       "    <tr>\n",
       "      <th>0</th>\n",
       "      <td>Temp: 18.5�C. Humidity 71% Rain today 0.0 mm. ...</td>\n",
       "      <td>1</td>\n",
       "    </tr>\n",
       "    <tr>\n",
       "      <th>1</th>\n",
       "      <td>Sorry guys… you will have to drag me out of no...</td>\n",
       "      <td>4</td>\n",
       "    </tr>\n",
       "    <tr>\n",
       "      <th>2</th>\n",
       "      <td>My heart just skipped a beat seeing “The Lord ...</td>\n",
       "      <td>4</td>\n",
       "    </tr>\n",
       "    <tr>\n",
       "      <th>3</th>\n",
       "      <td>Your mother could be LGBTQ\\nYour father could ...</td>\n",
       "      <td>4</td>\n",
       "    </tr>\n",
       "    <tr>\n",
       "      <th>4</th>\n",
       "      <td>EU GRITEI TANTO NESSE GOL</td>\n",
       "      <td>1</td>\n",
       "    </tr>\n",
       "  </tbody>\n",
       "</table>\n",
       "</div>"
      ],
      "text/plain": [
       "                                               tweet  Topic\n",
       "0  Temp: 18.5�C. Humidity 71% Rain today 0.0 mm. ...      1\n",
       "1  Sorry guys… you will have to drag me out of no...      4\n",
       "2  My heart just skipped a beat seeing “The Lord ...      4\n",
       "3  Your mother could be LGBTQ\\nYour father could ...      4\n",
       "4                          EU GRITEI TANTO NESSE GOL      1"
      ]
     },
     "execution_count": 115,
     "metadata": {},
     "output_type": "execute_result"
    }
   ],
   "source": [
    "topic_results = nmf_model.transform(dtm)\n",
    "topic_results.argmax(axis=1)\n",
    "df1['Topic'] = topic_results.argmax(axis=1)\n",
    "df1.head(5)"
   ]
  },
  {
   "cell_type": "code",
   "execution_count": null,
   "id": "2a0c9f33",
   "metadata": {},
   "outputs": [],
   "source": []
  }
 ],
 "metadata": {
  "kernelspec": {
   "display_name": "Python 3",
   "language": "python",
   "name": "python3"
  },
  "language_info": {
   "codemirror_mode": {
    "name": "ipython",
    "version": 3
   },
   "file_extension": ".py",
   "mimetype": "text/x-python",
   "name": "python",
   "nbconvert_exporter": "python",
   "pygments_lexer": "ipython3",
   "version": "3.8.8"
  }
 },
 "nbformat": 4,
 "nbformat_minor": 5
}
